{
  "nbformat": 4,
  "nbformat_minor": 0,
  "metadata": {
    "colab": {
      "name": "capstone_project-DALLI.ipynb",
      "provenance": [],
      "collapsed_sections": [
        "7wG6Qwk981_u",
        "cmvP-MAEARqb"
      ]
    },
    "kernelspec": {
      "display_name": "Python 3",
      "name": "python3"
    },
    "language_info": {
      "name": "python"
    }
  },
  "cells": [
    {
      "cell_type": "markdown",
      "metadata": {
        "id": "7wG6Qwk981_u"
      },
      "source": [
        "# Starbucks Capstone Challenge\n",
        "\n",
        "### Introduction\n",
        "\n",
        "This data set contains simulated data that mimics customer behavior on the Starbucks rewards mobile app. Once every few days, Starbucks sends out an offer to users of the mobile app. An offer can be merely an advertisement for a drink or an actual offer such as a discount or BOGO (buy one get one free). Some users might not receive any offer during certain weeks. \n",
        "\n",
        "Not all users receive the same offer, and that is the challenge to solve with this data set.\n",
        "\n",
        "Your task is to combine transaction, demographic and offer data to determine which demographic groups respond best to which offer type. This data set is a simplified version of the real Starbucks app because the underlying simulator only has one product whereas Starbucks actually sells dozens of products.\n",
        "\n",
        "Every offer has a validity period before the offer expires. As an example, a BOGO offer might be valid for only 5 days. You'll see in the data set that informational offers have a validity period even though these ads are merely providing information about a product; for example, if an informational offer has 7 days of validity, you can assume the customer is feeling the influence of the offer for 7 days after receiving the advertisement.\n",
        "\n",
        "You'll be given transactional data showing user purchases made on the app including the timestamp of purchase and the amount of money spent on a purchase. This transactional data also has a record for each offer that a user receives as well as a record for when a user actually views the offer. There are also records for when a user completes an offer. \n",
        "\n",
        "Keep in mind as well that someone using the app might make a purchase through the app without having received an offer or seen an offer."
      ]
    },
    {
      "cell_type": "markdown",
      "metadata": {
        "id": "dnG9hzSS8_Ng"
      },
      "source": [
        "# Data Sets\n",
        "\n",
        "The data is contained in three files:\n",
        "\n",
        "* portfolio.json - containing offer ids and meta data about each offer (duration, type, etc.)\n",
        "* profile.json - demographic data for each customer\n",
        "* transcript.json - records for transactions, offers received, offers viewed, and offers completed\n",
        "\n",
        "Here is the schema and explanation of each variable in the files:\n",
        "\n",
        "**portfolio.json**\n",
        "* id (string) - offer id\n",
        "* offer_type (string) - type of offer ie BOGO, discount, informational\n",
        "* difficulty (int) - minimum required spend to complete an offer\n",
        "* reward (int) - reward given for completing an offer\n",
        "* duration (int) - time for offer to be open, in days\n",
        "* channels (list of strings)\n",
        "\n",
        "**profile.json**\n",
        "* age (int) - age of the customer \n",
        "* became_member_on (int) - date when customer created an app account\n",
        "* gender (str) - gender of the customer (note some entries contain 'O' for other rather than M or F)\n",
        "* id (str) - customer id\n",
        "* income (float) - customer's income\n",
        "\n",
        "**transcript.json**\n",
        "* event (str) - record description (ie transaction, offer received, offer viewed, etc.)\n",
        "* person (str) - customer id\n",
        "* time (int) - time in hours since start of test. The data begins at time t=0\n",
        "* value - (dict of strings) - either an offer id or transaction amount depending on the record"
      ]
    },
    {
      "cell_type": "markdown",
      "metadata": {
        "id": "nkMemj20cnEu"
      },
      "source": [
        "##Business Understanding"
      ]
    },
    {
      "cell_type": "markdown",
      "metadata": {
        "id": "Xmr-gkkRc2bx"
      },
      "source": [
        "Q1: How many offers were recieved, viewed, and completed for each offer_type?\n",
        "\n",
        "Q2: How client respond to offers, by sex, by income?\n",
        "\n",
        "Q3: Predict whether a customer offer combination will be successful."
      ]
    },
    {
      "cell_type": "markdown",
      "metadata": {
        "id": "EYOjEKpPdD4C"
      },
      "source": [
        "##Data Understanding"
      ]
    },
    {
      "cell_type": "code",
      "metadata": {
        "id": "nzS_0yDjbhY8"
      },
      "source": [
        "# import libraries\n",
        "import pandas as pd\n",
        "import numpy as np\n",
        "import seaborn as sns\n",
        "import matplotlib.pyplot as plt\n",
        "from datetime import date\n",
        "\n",
        "from sklearn.preprocessing import StandardScaler\n",
        "from sklearn.ensemble import  AdaBoostClassifier\n",
        "from sklearn.linear_model import  LogisticRegression\n",
        "from sklearn.model_selection import train_test_split, GridSearchCV, cross_val_score\n",
        "from sklearn.metrics import confusion_matrix,accuracy_score, classification_report,f1_score\n",
        "\n",
        "#ignore warnings\n",
        "import warnings\n",
        "warnings.filterwarnings('ignore')"
      ],
      "execution_count": null,
      "outputs": []
    },
    {
      "cell_type": "code",
      "metadata": {
        "id": "ntDrEAckdJSu"
      },
      "source": [
        "# read in the json files\n",
        "portfolio = pd.read_json('/content/drive/MyDrive/Starbucks_data/portfolio.json', orient='records', lines=True)\n",
        "profile = pd.read_json('/content/drive/MyDrive/Starbucks_data/profile.json', orient='records', lines=True)\n",
        "transcript = pd.read_json('/content/drive/MyDrive/Starbucks_data/transcript.json', orient='records', lines=True)"
      ],
      "execution_count": null,
      "outputs": []
    },
    {
      "cell_type": "code",
      "metadata": {
        "colab": {
          "base_uri": "https://localhost:8080/"
        },
        "id": "K-4tk9TTivFn",
        "outputId": "7fb16a6a-3df3-43e1-c1cf-4e585a270ca6"
      },
      "source": [
        "portfolio.head()"
      ],
      "execution_count": null,
      "outputs": [
        {
          "output_type": "execute_result",
          "data": {
            "text/html": [
              "<div>\n",
              "<style scoped>\n",
              "    .dataframe tbody tr th:only-of-type {\n",
              "        vertical-align: middle;\n",
              "    }\n",
              "\n",
              "    .dataframe tbody tr th {\n",
              "        vertical-align: top;\n",
              "    }\n",
              "\n",
              "    .dataframe thead th {\n",
              "        text-align: right;\n",
              "    }\n",
              "</style>\n",
              "<table border=\"1\" class=\"dataframe\">\n",
              "  <thead>\n",
              "    <tr style=\"text-align: right;\">\n",
              "      <th></th>\n",
              "      <th>reward</th>\n",
              "      <th>channels</th>\n",
              "      <th>difficulty</th>\n",
              "      <th>duration</th>\n",
              "      <th>offer_type</th>\n",
              "      <th>id</th>\n",
              "    </tr>\n",
              "  </thead>\n",
              "  <tbody>\n",
              "    <tr>\n",
              "      <th>0</th>\n",
              "      <td>10</td>\n",
              "      <td>[email, mobile, social]</td>\n",
              "      <td>10</td>\n",
              "      <td>7</td>\n",
              "      <td>bogo</td>\n",
              "      <td>ae264e3637204a6fb9bb56bc8210ddfd</td>\n",
              "    </tr>\n",
              "    <tr>\n",
              "      <th>1</th>\n",
              "      <td>10</td>\n",
              "      <td>[web, email, mobile, social]</td>\n",
              "      <td>10</td>\n",
              "      <td>5</td>\n",
              "      <td>bogo</td>\n",
              "      <td>4d5c57ea9a6940dd891ad53e9dbe8da0</td>\n",
              "    </tr>\n",
              "    <tr>\n",
              "      <th>2</th>\n",
              "      <td>0</td>\n",
              "      <td>[web, email, mobile]</td>\n",
              "      <td>0</td>\n",
              "      <td>4</td>\n",
              "      <td>informational</td>\n",
              "      <td>3f207df678b143eea3cee63160fa8bed</td>\n",
              "    </tr>\n",
              "    <tr>\n",
              "      <th>3</th>\n",
              "      <td>5</td>\n",
              "      <td>[web, email, mobile]</td>\n",
              "      <td>5</td>\n",
              "      <td>7</td>\n",
              "      <td>bogo</td>\n",
              "      <td>9b98b8c7a33c4b65b9aebfe6a799e6d9</td>\n",
              "    </tr>\n",
              "    <tr>\n",
              "      <th>4</th>\n",
              "      <td>5</td>\n",
              "      <td>[web, email]</td>\n",
              "      <td>20</td>\n",
              "      <td>10</td>\n",
              "      <td>discount</td>\n",
              "      <td>0b1e1539f2cc45b7b9fa7c272da2e1d7</td>\n",
              "    </tr>\n",
              "  </tbody>\n",
              "</table>\n",
              "</div>"
            ],
            "text/plain": [
              "   reward  ...                                id\n",
              "0      10  ...  ae264e3637204a6fb9bb56bc8210ddfd\n",
              "1      10  ...  4d5c57ea9a6940dd891ad53e9dbe8da0\n",
              "2       0  ...  3f207df678b143eea3cee63160fa8bed\n",
              "3       5  ...  9b98b8c7a33c4b65b9aebfe6a799e6d9\n",
              "4       5  ...  0b1e1539f2cc45b7b9fa7c272da2e1d7\n",
              "\n",
              "[5 rows x 6 columns]"
            ]
          },
          "metadata": {
            "tags": []
          },
          "execution_count": 3
        }
      ]
    },
    {
      "cell_type": "code",
      "metadata": {
        "colab": {
          "base_uri": "https://localhost:8080/"
        },
        "id": "tRvxRGqmjPsx",
        "outputId": "06c637fb-8c95-423b-91c0-d7182793bebf"
      },
      "source": [
        "portfolio.info()"
      ],
      "execution_count": null,
      "outputs": [
        {
          "output_type": "stream",
          "text": [
            "<class 'pandas.core.frame.DataFrame'>\n",
            "RangeIndex: 10 entries, 0 to 9\n",
            "Data columns (total 6 columns):\n",
            " #   Column      Non-Null Count  Dtype \n",
            "---  ------      --------------  ----- \n",
            " 0   reward      10 non-null     int64 \n",
            " 1   channels    10 non-null     object\n",
            " 2   difficulty  10 non-null     int64 \n",
            " 3   duration    10 non-null     int64 \n",
            " 4   offer_type  10 non-null     object\n",
            " 5   id          10 non-null     object\n",
            "dtypes: int64(3), object(3)\n",
            "memory usage: 608.0+ bytes\n"
          ],
          "name": "stdout"
        }
      ]
    },
    {
      "cell_type": "code",
      "metadata": {
        "colab": {
          "base_uri": "https://localhost:8080/"
        },
        "id": "EFWqI31KjBhc",
        "outputId": "4db1ee93-6e11-48a0-fd19-3bcc0f8696d6"
      },
      "source": [
        "portfolio['offer_type'].value_counts()"
      ],
      "execution_count": null,
      "outputs": [
        {
          "output_type": "execute_result",
          "data": {
            "text/plain": [
              "bogo             4\n",
              "discount         4\n",
              "informational    2\n",
              "Name: offer_type, dtype: int64"
            ]
          },
          "metadata": {
            "tags": []
          },
          "execution_count": 5
        }
      ]
    },
    {
      "cell_type": "code",
      "metadata": {
        "colab": {
          "base_uri": "https://localhost:8080/"
        },
        "id": "pMVVC8RQjJjz",
        "outputId": "084c3876-b2f6-456a-d61a-9362e449a3f8"
      },
      "source": [
        "# checking the distribution of offers\n",
        "print(\"The describtions of difficulty, duration, and reward\")\n",
        "print(portfolio.describe())"
      ],
      "execution_count": null,
      "outputs": [
        {
          "output_type": "stream",
          "text": [
            "The describtions of difficulty, duration, and reward\n",
            "          reward  difficulty   duration\n",
            "count  10.000000   10.000000  10.000000\n",
            "mean    4.200000    7.700000   6.500000\n",
            "std     3.583915    5.831905   2.321398\n",
            "min     0.000000    0.000000   3.000000\n",
            "25%     2.000000    5.000000   5.000000\n",
            "50%     4.000000    8.500000   7.000000\n",
            "75%     5.000000   10.000000   7.000000\n",
            "max    10.000000   20.000000  10.000000\n"
          ],
          "name": "stdout"
        }
      ]
    },
    {
      "cell_type": "code",
      "metadata": {
        "colab": {
          "base_uri": "https://localhost:8080/"
        },
        "id": "E535qGCXq09N",
        "outputId": "061eab47-0477-4e72-b55e-bf565610e0a6"
      },
      "source": [
        "portfolio['offer_type'].value_counts().plot(kind='bar')\n",
        "plt.title(\"Disribution of offers by type\")\n",
        "plt.xlabel(\"Offer Type\")\n",
        "plt.ylabel(\"Count\")"
      ],
      "execution_count": null,
      "outputs": [
        {
          "output_type": "execute_result",
          "data": {
            "text/plain": [
              "Text(0, 0.5, 'Count')"
            ]
          },
          "metadata": {
            "tags": []
          },
          "execution_count": 7
        },
        {
          "output_type": "display_data",
          "data": {
            "image/png": "[encoded data removed]",
            "text/plain": [
              "<Figure size 432x288 with 1 Axes>"
            ]
          },
          "metadata": {
            "tags": [],
            "needs_background": "light"
          }
        }
      ]
    },
    {
      "cell_type": "markdown",
      "metadata": {
        "id": "NZnJMuktq6Lh"
      },
      "source": [
        "- we have a total of 10 offers in the portfolio. 4 bogo, 4 discount, and 2 informational.\n",
        "- There are 4 main channels of communication.\n",
        "- The difficulty varies between 0 and 20 where 0 is for informational which means that there is no minimum spend required.\n",
        "- The duration varies between 3 - 10 days\n",
        "- The rewards vary between 0 and 10. Where 0 is for informational"
      ]
    },
    {
      "cell_type": "markdown",
      "metadata": {
        "id": "zuzYlZK4vcI9"
      },
      "source": [
        "Profil dataset undestunding"
      ]
    },
    {
      "cell_type": "code",
      "metadata": {
        "colab": {
          "base_uri": "https://localhost:8080/"
        },
        "id": "qPiRmjQldN2A",
        "outputId": "4d400d74-3056-4d37-9d22-78bcf9139328"
      },
      "source": [
        "profile.head()"
      ],
      "execution_count": null,
      "outputs": [
        {
          "output_type": "execute_result",
          "data": {
            "text/html": [
              "<div>\n",
              "<style scoped>\n",
              "    .dataframe tbody tr th:only-of-type {\n",
              "        vertical-align: middle;\n",
              "    }\n",
              "\n",
              "    .dataframe tbody tr th {\n",
              "        vertical-align: top;\n",
              "    }\n",
              "\n",
              "    .dataframe thead th {\n",
              "        text-align: right;\n",
              "    }\n",
              "</style>\n",
              "<table border=\"1\" class=\"dataframe\">\n",
              "  <thead>\n",
              "    <tr style=\"text-align: right;\">\n",
              "      <th></th>\n",
              "      <th>gender</th>\n",
              "      <th>age</th>\n",
              "      <th>id</th>\n",
              "      <th>became_member_on</th>\n",
              "      <th>income</th>\n",
              "    </tr>\n",
              "  </thead>\n",
              "  <tbody>\n",
              "    <tr>\n",
              "      <th>0</th>\n",
              "      <td>None</td>\n",
              "      <td>118</td>\n",
              "      <td>68be06ca386d4c31939f3a4f0e3dd783</td>\n",
              "      <td>20170212</td>\n",
              "      <td>NaN</td>\n",
              "    </tr>\n",
              "    <tr>\n",
              "      <th>1</th>\n",
              "      <td>F</td>\n",
              "      <td>55</td>\n",
              "      <td>0610b486422d4921ae7d2bf64640c50b</td>\n",
              "      <td>20170715</td>\n",
              "      <td>112000.0</td>\n",
              "    </tr>\n",
              "    <tr>\n",
              "      <th>2</th>\n",
              "      <td>None</td>\n",
              "      <td>118</td>\n",
              "      <td>38fe809add3b4fcf9315a9694bb96ff5</td>\n",
              "      <td>20180712</td>\n",
              "      <td>NaN</td>\n",
              "    </tr>\n",
              "    <tr>\n",
              "      <th>3</th>\n",
              "      <td>F</td>\n",
              "      <td>75</td>\n",
              "      <td>78afa995795e4d85b5d9ceeca43f5fef</td>\n",
              "      <td>20170509</td>\n",
              "      <td>100000.0</td>\n",
              "    </tr>\n",
              "    <tr>\n",
              "      <th>4</th>\n",
              "      <td>None</td>\n",
              "      <td>118</td>\n",
              "      <td>a03223e636434f42ac4c3df47e8bac43</td>\n",
              "      <td>20170804</td>\n",
              "      <td>NaN</td>\n",
              "    </tr>\n",
              "  </tbody>\n",
              "</table>\n",
              "</div>"
            ],
            "text/plain": [
              "  gender  age                                id  became_member_on    income\n",
              "0   None  118  68be06ca386d4c31939f3a4f0e3dd783          20170212       NaN\n",
              "1      F   55  0610b486422d4921ae7d2bf64640c50b          20170715  112000.0\n",
              "2   None  118  38fe809add3b4fcf9315a9694bb96ff5          20180712       NaN\n",
              "3      F   75  78afa995795e4d85b5d9ceeca43f5fef          20170509  100000.0\n",
              "4   None  118  a03223e636434f42ac4c3df47e8bac43          20170804       NaN"
            ]
          },
          "metadata": {
            "tags": []
          },
          "execution_count": 8
        }
      ]
    },
    {
      "cell_type": "code",
      "metadata": {
        "colab": {
          "base_uri": "https://localhost:8080/"
        },
        "id": "vV_CARKwsRFW",
        "outputId": "0af2d128-e878-4a93-8e2d-876e03f5f24f"
      },
      "source": [
        "profile.isnull().sum()"
      ],
      "execution_count": null,
      "outputs": [
        {
          "output_type": "execute_result",
          "data": {
            "text/plain": [
              "gender              2175\n",
              "age                    0\n",
              "id                     0\n",
              "became_member_on       0\n",
              "income              2175\n",
              "dtype: int64"
            ]
          },
          "metadata": {
            "tags": []
          },
          "execution_count": 9
        }
      ]
    },
    {
      "cell_type": "markdown",
      "metadata": {
        "id": "7qzjAwMtsbnf"
      },
      "source": [
        "There is NULL values in gender (2175) and income (2175)"
      ]
    },
    {
      "cell_type": "code",
      "metadata": {
        "colab": {
          "base_uri": "https://localhost:8080/"
        },
        "id": "pP0Ux6CsruPi",
        "outputId": "69ece7d5-36e9-4cb0-da92-56979d5d3efc"
      },
      "source": [
        "#checking if we have any duplicated profiles\n",
        "profile.duplicated().sum()"
      ],
      "execution_count": null,
      "outputs": [
        {
          "output_type": "execute_result",
          "data": {
            "text/plain": [
              "0"
            ]
          },
          "metadata": {
            "tags": []
          },
          "execution_count": 10
        }
      ]
    },
    {
      "cell_type": "markdown",
      "metadata": {
        "id": "3zomjc0Zrbik"
      },
      "source": [
        "- total of 17000 customers in the profile dataframe.\n",
        "\n",
        "- we will investigate:\n",
        " * Age\n",
        " * membership year from became_member_on\n",
        " * distribution of gender\n",
        " * income average"
      ]
    },
    {
      "cell_type": "code",
      "metadata": {
        "colab": {
          "base_uri": "https://localhost:8080/"
        },
        "id": "U72m79-zr19X",
        "outputId": "49fac644-ee7c-4c39-8a87-7dddb57a403a"
      },
      "source": [
        "#exploring the distribution of ages\n",
        "profile['age'].plot(kind='hist',range=(10,130))\n",
        "plt.title('The distribution of age profiles')\n",
        "plt.xlabel('Age')\n",
        "plt.xticks([10,20,30,40,50,60,70,80,90,100,110,120,130])"
      ],
      "execution_count": null,
      "outputs": [
        {
          "output_type": "execute_result",
          "data": {
            "text/plain": [
              "([<matplotlib.axis.XTick at 0x7fe6316ad4d0>,\n",
              "  <matplotlib.axis.XTick at 0x7fe6316ad510>,\n",
              "  <matplotlib.axis.XTick at 0x7fe6316b8310>,\n",
              "  <matplotlib.axis.XTick at 0x7fe6316ccb50>,\n",
              "  <matplotlib.axis.XTick at 0x7fe6316cf990>,\n",
              "  <matplotlib.axis.XTick at 0x7fe6316d03d0>,\n",
              "  <matplotlib.axis.XTick at 0x7fe6316d0ad0>,\n",
              "  <matplotlib.axis.XTick at 0x7fe6316d4490>,\n",
              "  <matplotlib.axis.XTick at 0x7fe6316aaf50>,\n",
              "  <matplotlib.axis.XTick at 0x7fe6316c0d50>,\n",
              "  <matplotlib.axis.XTick at 0x7fe6316d6ad0>,\n",
              "  <matplotlib.axis.XTick at 0x7fe6316d69d0>,\n",
              "  <matplotlib.axis.XTick at 0x7fe6316d4790>],\n",
              " <a list of 13 Text major ticklabel objects>)"
            ]
          },
          "metadata": {
            "tags": []
          },
          "execution_count": 11
        },
        {
          "output_type": "display_data",
          "data": {
            "image/png": "[encoded data removed]",
            "text/plain": [
              "<Figure size 432x288 with 1 Axes>"
            ]
          },
          "metadata": {
            "tags": [],
            "needs_background": "light"
          }
        }
      ]
    },
    {
      "cell_type": "code",
      "metadata": {
        "colab": {
          "base_uri": "https://localhost:8080/"
        },
        "id": "mkI-V3MvucIM",
        "outputId": "dad3f7e1-2362-41c4-c7dc-e1780630be33"
      },
      "source": [
        "print(profile['age'].describe())"
      ],
      "execution_count": null,
      "outputs": [
        {
          "output_type": "stream",
          "text": [
            "count    17000.000000\n",
            "mean        62.531412\n",
            "std         26.738580\n",
            "min         18.000000\n",
            "25%         45.000000\n",
            "50%         58.000000\n",
            "75%         73.000000\n",
            "max        118.000000\n",
            "Name: age, dtype: float64\n"
          ],
          "name": "stdout"
        }
      ]
    },
    {
      "cell_type": "code",
      "metadata": {
        "colab": {
          "base_uri": "https://localhost:8080/"
        },
        "id": "kjWu1shBueZe",
        "outputId": "8c22ad80-a030-497a-a1b5-da19ee911091"
      },
      "source": [
        "print(\"number of unique profiles\", profile['id'].nunique())\n",
        "print(\"number of 118 years old profiles \", profile[profile['age']==118].age.count())"
      ],
      "execution_count": null,
      "outputs": [
        {
          "output_type": "stream",
          "text": [
            "number of unique profiles 17000\n",
            "number of 118 years old profiles  2175\n"
          ],
          "name": "stdout"
        }
      ]
    },
    {
      "cell_type": "markdown",
      "metadata": {
        "id": "qMbMFQvVsMvr"
      },
      "source": [
        "It seems that we have an average age of 62.6 years. This is surprising to me specially that we have 2175 members that are 118 years of age. This is worth investigating further."
      ]
    },
    {
      "cell_type": "code",
      "metadata": {
        "colab": {
          "base_uri": "https://localhost:8080/"
        },
        "id": "83MPhysbs2nt",
        "outputId": "545aa18c-2c28-49ef-9ec2-cc3c8cbf2cf3"
      },
      "source": [
        "# exploring gender distribution\n",
        "profile['gender'].value_counts().plot(kind='bar')\n",
        "plt.title(\"The distribution of profiles by gender\")\n",
        "plt.ylabel(\"Gender\")\n",
        "plt.xlabel(\"number of profiles\")"
      ],
      "execution_count": null,
      "outputs": [
        {
          "output_type": "execute_result",
          "data": {
            "text/plain": [
              "Text(0.5, 0, 'number of profiles')"
            ]
          },
          "metadata": {
            "tags": []
          },
          "execution_count": 14
        },
        {
          "output_type": "display_data",
          "data": {
            "image/png": "[encoded data removed]",
            "text/plain": [
              "<Figure size 432x288 with 1 Axes>"
            ]
          },
          "metadata": {
            "tags": [],
            "needs_background": "light"
          }
        }
      ]
    },
    {
      "cell_type": "code",
      "metadata": {
        "colab": {
          "base_uri": "https://localhost:8080/"
        },
        "id": "7Z4iXklJtUji",
        "outputId": "67f26c07-7c7d-4121-8578-31a61fcd5683"
      },
      "source": [
        "print(\"The number of males are: \", profile[profile['gender'] == 'M'].age.count())\n",
        "print(\"The number of females are: \", profile[profile['gender'] == 'F'].age.count())\n",
        "print(\"The number of others gender are: \", profile[profile['gender'] == 'O'].age.count())\n",
        "print(\"We have a total of \", profile['gender'].isna().sum(), \" that are missing gender information\")"
      ],
      "execution_count": null,
      "outputs": [
        {
          "output_type": "stream",
          "text": [
            "The number of males are:  8484\n",
            "The number of females are:  6129\n",
            "The number of others gender are:  212\n",
            "We have a total of  2175  that are missing gender information\n"
          ],
          "name": "stdout"
        }
      ]
    },
    {
      "cell_type": "code",
      "metadata": {
        "colab": {
          "base_uri": "https://localhost:8080/"
        },
        "id": "KHc56jJttwbs",
        "outputId": "c317a4f2-473e-42cf-c7fa-c2dccb1ca7fa"
      },
      "source": [
        "# exploring if the missing gender information are the same as the 118 years of age\n",
        "print(\"The ages for the missing gender information are :\\n\", profile[profile['gender'].isna()].age.value_counts())\n",
        "print(\"The ages for the missing income information are :\\n\", profile[profile['gender'].isna()].income.value_counts())"
      ],
      "execution_count": null,
      "outputs": [
        {
          "output_type": "stream",
          "text": [
            "The ages for the missing gender information are :\n",
            " 118    2175\n",
            "Name: age, dtype: int64\n",
            "The ages for the missing income information are :\n",
            " Series([], Name: income, dtype: int64)\n"
          ],
          "name": "stdout"
        }
      ]
    },
    {
      "cell_type": "code",
      "metadata": {
        "colab": {
          "base_uri": "https://localhost:8080/",
          "height": 204
        },
        "id": "vHhnpBJLt6Ux",
        "outputId": "3de6cdfb-9be4-4b06-856f-548e49f71061"
      },
      "source": [
        "profile[profile['gender'].isna()].head()"
      ],
      "execution_count": null,
      "outputs": [
        {
          "output_type": "execute_result",
          "data": {
            "text/html": [
              "<div>\n",
              "<style scoped>\n",
              "    .dataframe tbody tr th:only-of-type {\n",
              "        vertical-align: middle;\n",
              "    }\n",
              "\n",
              "    .dataframe tbody tr th {\n",
              "        vertical-align: top;\n",
              "    }\n",
              "\n",
              "    .dataframe thead th {\n",
              "        text-align: right;\n",
              "    }\n",
              "</style>\n",
              "<table border=\"1\" class=\"dataframe\">\n",
              "  <thead>\n",
              "    <tr style=\"text-align: right;\">\n",
              "      <th></th>\n",
              "      <th>gender</th>\n",
              "      <th>age</th>\n",
              "      <th>id</th>\n",
              "      <th>became_member_on</th>\n",
              "      <th>income</th>\n",
              "    </tr>\n",
              "  </thead>\n",
              "  <tbody>\n",
              "    <tr>\n",
              "      <th>0</th>\n",
              "      <td>None</td>\n",
              "      <td>118</td>\n",
              "      <td>68be06ca386d4c31939f3a4f0e3dd783</td>\n",
              "      <td>20170212</td>\n",
              "      <td>NaN</td>\n",
              "    </tr>\n",
              "    <tr>\n",
              "      <th>2</th>\n",
              "      <td>None</td>\n",
              "      <td>118</td>\n",
              "      <td>38fe809add3b4fcf9315a9694bb96ff5</td>\n",
              "      <td>20180712</td>\n",
              "      <td>NaN</td>\n",
              "    </tr>\n",
              "    <tr>\n",
              "      <th>4</th>\n",
              "      <td>None</td>\n",
              "      <td>118</td>\n",
              "      <td>a03223e636434f42ac4c3df47e8bac43</td>\n",
              "      <td>20170804</td>\n",
              "      <td>NaN</td>\n",
              "    </tr>\n",
              "    <tr>\n",
              "      <th>6</th>\n",
              "      <td>None</td>\n",
              "      <td>118</td>\n",
              "      <td>8ec6ce2a7e7949b1bf142def7d0e0586</td>\n",
              "      <td>20170925</td>\n",
              "      <td>NaN</td>\n",
              "    </tr>\n",
              "    <tr>\n",
              "      <th>7</th>\n",
              "      <td>None</td>\n",
              "      <td>118</td>\n",
              "      <td>68617ca6246f4fbc85e91a2a49552598</td>\n",
              "      <td>20171002</td>\n",
              "      <td>NaN</td>\n",
              "    </tr>\n",
              "  </tbody>\n",
              "</table>\n",
              "</div>"
            ],
            "text/plain": [
              "  gender  age                                id  became_member_on  income\n",
              "0   None  118  68be06ca386d4c31939f3a4f0e3dd783          20170212     NaN\n",
              "2   None  118  38fe809add3b4fcf9315a9694bb96ff5          20180712     NaN\n",
              "4   None  118  a03223e636434f42ac4c3df47e8bac43          20170804     NaN\n",
              "6   None  118  8ec6ce2a7e7949b1bf142def7d0e0586          20170925     NaN\n",
              "7   None  118  68617ca6246f4fbc85e91a2a49552598          20171002     NaN"
            ]
          },
          "metadata": {
            "tags": []
          },
          "execution_count": 17
        }
      ]
    },
    {
      "cell_type": "code",
      "metadata": {
        "colab": {
          "base_uri": "https://localhost:8080/"
        },
        "id": "Ug2zCLIRugT6",
        "outputId": "60695bf4-23c3-495f-c0b3-179a80b8baaf"
      },
      "source": [
        "# exploring income discribution\n",
        "print(profile['income'].describe())"
      ],
      "execution_count": null,
      "outputs": [
        {
          "output_type": "stream",
          "text": [
            "count     14825.000000\n",
            "mean      65404.991568\n",
            "std       21598.299410\n",
            "min       30000.000000\n",
            "25%       49000.000000\n",
            "50%       64000.000000\n",
            "75%       80000.000000\n",
            "max      120000.000000\n",
            "Name: income, dtype: float64\n"
          ],
          "name": "stdout"
        }
      ]
    },
    {
      "cell_type": "code",
      "metadata": {
        "colab": {
          "base_uri": "https://localhost:8080/",
          "height": 312
        },
        "id": "KdFEi2RevAbQ",
        "outputId": "5d7deda2-62ef-420d-f1c5-8bf6278dbebf"
      },
      "source": [
        "profile['income'].plot(kind='hist')\n",
        "plt.title(\"Disribution of Income\")\n",
        "plt.xlabel(\"Income\")\n",
        "plt.ylabel(\"Count\")"
      ],
      "execution_count": null,
      "outputs": [
        {
          "output_type": "execute_result",
          "data": {
            "text/plain": [
              "Text(0, 0.5, 'Count')"
            ]
          },
          "metadata": {
            "tags": []
          },
          "execution_count": 19
        },
        {
          "output_type": "display_data",
          "data": {
            "image/png": "[encoded data removed]",
            "text/plain": [
              "<Figure size 432x288 with 1 Axes>"
            ]
          },
          "metadata": {
            "tags": [],
            "needs_background": "light"
          }
        }
      ]
    },
    {
      "cell_type": "code",
      "metadata": {
        "colab": {
          "base_uri": "https://localhost:8080/"
        },
        "id": "2pNaP4wlvHUj",
        "outputId": "37338847-2fbc-4187-86bb-8396a3b8ab6f"
      },
      "source": [
        "print(\"We have \",profile['income'].isna().sum(),\" missing income from the profiles\")\n",
        "print(\"The number of profiles with minimum income is :\", profile[profile['income']== 30000].income.count())\n",
        "print(\"The number of profiles with maximum income is :\", profile[profile['income']== 120000].income.count())"
      ],
      "execution_count": null,
      "outputs": [
        {
          "output_type": "stream",
          "text": [
            "We have  2175  missing income from the profiles\n",
            "The number of profiles with minimum income is : 88\n",
            "The number of profiles with maximum income is : 13\n"
          ],
          "name": "stdout"
        }
      ]
    },
    {
      "cell_type": "markdown",
      "metadata": {
        "id": "xOV6WkzevWOj"
      },
      "source": [
        "The minimum income we have is 30000 while the maximum is 120000. The average is 65404. We seem to have slightly more profiles with income more than average that profiles with income less than average."
      ]
    },
    {
      "cell_type": "markdown",
      "metadata": {
        "id": "xRKx8ZNxv95x"
      },
      "source": [
        "**Transcript Dataset**"
      ]
    },
    {
      "cell_type": "code",
      "metadata": {
        "colab": {
          "base_uri": "https://localhost:8080/",
          "height": 204
        },
        "id": "ZeBpQFqtvL2l",
        "outputId": "5a0aa0e2-57c2-4565-f6fe-f480121e05e1"
      },
      "source": [
        "transcript.head()"
      ],
      "execution_count": null,
      "outputs": [
        {
          "output_type": "execute_result",
          "data": {
            "text/html": [
              "<div>\n",
              "<style scoped>\n",
              "    .dataframe tbody tr th:only-of-type {\n",
              "        vertical-align: middle;\n",
              "    }\n",
              "\n",
              "    .dataframe tbody tr th {\n",
              "        vertical-align: top;\n",
              "    }\n",
              "\n",
              "    .dataframe thead th {\n",
              "        text-align: right;\n",
              "    }\n",
              "</style>\n",
              "<table border=\"1\" class=\"dataframe\">\n",
              "  <thead>\n",
              "    <tr style=\"text-align: right;\">\n",
              "      <th></th>\n",
              "      <th>person</th>\n",
              "      <th>event</th>\n",
              "      <th>value</th>\n",
              "      <th>time</th>\n",
              "    </tr>\n",
              "  </thead>\n",
              "  <tbody>\n",
              "    <tr>\n",
              "      <th>0</th>\n",
              "      <td>78afa995795e4d85b5d9ceeca43f5fef</td>\n",
              "      <td>offer received</td>\n",
              "      <td>{'offer id': '9b98b8c7a33c4b65b9aebfe6a799e6d9'}</td>\n",
              "      <td>0</td>\n",
              "    </tr>\n",
              "    <tr>\n",
              "      <th>1</th>\n",
              "      <td>a03223e636434f42ac4c3df47e8bac43</td>\n",
              "      <td>offer received</td>\n",
              "      <td>{'offer id': '0b1e1539f2cc45b7b9fa7c272da2e1d7'}</td>\n",
              "      <td>0</td>\n",
              "    </tr>\n",
              "    <tr>\n",
              "      <th>2</th>\n",
              "      <td>e2127556f4f64592b11af22de27a7932</td>\n",
              "      <td>offer received</td>\n",
              "      <td>{'offer id': '2906b810c7d4411798c6938adc9daaa5'}</td>\n",
              "      <td>0</td>\n",
              "    </tr>\n",
              "    <tr>\n",
              "      <th>3</th>\n",
              "      <td>8ec6ce2a7e7949b1bf142def7d0e0586</td>\n",
              "      <td>offer received</td>\n",
              "      <td>{'offer id': 'fafdcd668e3743c1bb461111dcafc2a4'}</td>\n",
              "      <td>0</td>\n",
              "    </tr>\n",
              "    <tr>\n",
              "      <th>4</th>\n",
              "      <td>68617ca6246f4fbc85e91a2a49552598</td>\n",
              "      <td>offer received</td>\n",
              "      <td>{'offer id': '4d5c57ea9a6940dd891ad53e9dbe8da0'}</td>\n",
              "      <td>0</td>\n",
              "    </tr>\n",
              "  </tbody>\n",
              "</table>\n",
              "</div>"
            ],
            "text/plain": [
              "                             person  ... time\n",
              "0  78afa995795e4d85b5d9ceeca43f5fef  ...    0\n",
              "1  a03223e636434f42ac4c3df47e8bac43  ...    0\n",
              "2  e2127556f4f64592b11af22de27a7932  ...    0\n",
              "3  8ec6ce2a7e7949b1bf142def7d0e0586  ...    0\n",
              "4  68617ca6246f4fbc85e91a2a49552598  ...    0\n",
              "\n",
              "[5 rows x 4 columns]"
            ]
          },
          "metadata": {
            "tags": []
          },
          "execution_count": 21
        }
      ]
    },
    {
      "cell_type": "code",
      "metadata": {
        "colab": {
          "base_uri": "https://localhost:8080/"
        },
        "id": "AryGiLDK_HNn",
        "outputId": "df22e805-56cd-4712-9718-a4b08e005ff1"
      },
      "source": [
        "#checking missing values\n",
        "transcript.isna().sum()"
      ],
      "execution_count": null,
      "outputs": [
        {
          "output_type": "execute_result",
          "data": {
            "text/plain": [
              "person    0\n",
              "event     0\n",
              "value     0\n",
              "time      0\n",
              "dtype: int64"
            ]
          },
          "metadata": {
            "tags": []
          },
          "execution_count": 22
        }
      ]
    },
    {
      "cell_type": "code",
      "metadata": {
        "colab": {
          "base_uri": "https://localhost:8080/"
        },
        "id": "iGhPaoWn_qFD",
        "outputId": "1d722a0b-2c13-4872-f6ea-fc36d612da62"
      },
      "source": [
        "#exploring the events and their types\n",
        "transcript['event'].value_counts()"
      ],
      "execution_count": null,
      "outputs": [
        {
          "output_type": "execute_result",
          "data": {
            "text/plain": [
              "transaction        138953\n",
              "offer received      76277\n",
              "offer viewed        57725\n",
              "offer completed     33579\n",
              "Name: event, dtype: int64"
            ]
          },
          "metadata": {
            "tags": []
          },
          "execution_count": 23
        }
      ]
    },
    {
      "cell_type": "code",
      "metadata": {
        "colab": {
          "base_uri": "https://localhost:8080/",
          "height": 382
        },
        "id": "pfvn9DAS_ynz",
        "outputId": "05d74e72-871f-4336-a739-e37dac08d4eb"
      },
      "source": [
        "transcript['event'].value_counts().plot(kind='bar')\n",
        "plt.title(\"Number of events per type\")\n",
        "plt.xlabel(\"Event Type\")\n",
        "plt.ylabel(\"Count\")"
      ],
      "execution_count": null,
      "outputs": [
        {
          "output_type": "execute_result",
          "data": {
            "text/plain": [
              "Text(0, 0.5, 'Count')"
            ]
          },
          "metadata": {
            "tags": []
          },
          "execution_count": 24
        },
        {
          "output_type": "display_data",
          "data": {
            "image/png": "[encoded data removed]",
            "text/plain": [
              "<Figure size 432x288 with 1 Axes>"
            ]
          },
          "metadata": {
            "tags": [],
            "needs_background": "light"
          }
        }
      ]
    },
    {
      "cell_type": "markdown",
      "metadata": {
        "id": "9Inh0z_5Aw3z"
      },
      "source": [
        "We have more transactions than any other event type. For offers, as expected, we send offers, a small portion of them is viewed and even smaller portion of them gets completed. This might not be accurate since we have informational offer that cannot be completed.\n",
        "The value is different for each event type:\n",
        "Transaction events include amount information\n",
        "Offer recieved and offer viewed include offer id informaiton\n",
        "Offer completed include offer id and reward amount information\n",
        "The value column needs to be cleaned and reformatted"
      ]
    },
    {
      "cell_type": "markdown",
      "metadata": {
        "id": "ZO-hbTf5A4n7"
      },
      "source": [
        "**Person and Time:**"
      ]
    },
    {
      "cell_type": "code",
      "metadata": {
        "colab": {
          "base_uri": "https://localhost:8080/"
        },
        "id": "Qg9d3Ab0AzHd",
        "outputId": "14164de7-1a4c-412f-e7ee-1d6984fd814c"
      },
      "source": [
        "# checking the time destribution\n",
        "print(\"The time desription is as follows: \\n\",transcript['time'].describe())"
      ],
      "execution_count": null,
      "outputs": [
        {
          "output_type": "stream",
          "text": [
            "The time desription is as follows: \n",
            " count    306534.000000\n",
            "mean        366.382940\n",
            "std         200.326314\n",
            "min           0.000000\n",
            "25%         186.000000\n",
            "50%         408.000000\n",
            "75%         528.000000\n",
            "max         714.000000\n",
            "Name: time, dtype: float64\n"
          ],
          "name": "stdout"
        }
      ]
    },
    {
      "cell_type": "code",
      "metadata": {
        "colab": {
          "base_uri": "https://localhost:8080/"
        },
        "id": "nx8rRUA-BAgP",
        "outputId": "6f023c30-971c-4648-b477-27f4467b30f5"
      },
      "source": [
        "# checking that we have unique people\n",
        "print(\"The number of profiles in the person columns is \", transcript['person'].nunique())"
      ],
      "execution_count": null,
      "outputs": [
        {
          "output_type": "stream",
          "text": [
            "The number of profiles in the person columns is  17000\n"
          ],
          "name": "stdout"
        }
      ]
    },
    {
      "cell_type": "markdown",
      "metadata": {
        "id": "Ow_AFQXzBKX2"
      },
      "source": [
        "## Data Processing"
      ]
    },
    {
      "cell_type": "markdown",
      "metadata": {
        "id": "XWretjrrBbWZ"
      },
      "source": [
        "**Portfolio:**"
      ]
    },
    {
      "cell_type": "code",
      "metadata": {
        "colab": {
          "base_uri": "https://localhost:8080/",
          "height": 204
        },
        "id": "pliZVlBoBNC_",
        "outputId": "e22fada4-bcea-4c5e-a824-75d96148243c"
      },
      "source": [
        "#before cleaning\n",
        "portfolio.head()"
      ],
      "execution_count": null,
      "outputs": [
        {
          "output_type": "execute_result",
          "data": {
            "text/html": [
              "<div>\n",
              "<style scoped>\n",
              "    .dataframe tbody tr th:only-of-type {\n",
              "        vertical-align: middle;\n",
              "    }\n",
              "\n",
              "    .dataframe tbody tr th {\n",
              "        vertical-align: top;\n",
              "    }\n",
              "\n",
              "    .dataframe thead th {\n",
              "        text-align: right;\n",
              "    }\n",
              "</style>\n",
              "<table border=\"1\" class=\"dataframe\">\n",
              "  <thead>\n",
              "    <tr style=\"text-align: right;\">\n",
              "      <th></th>\n",
              "      <th>reward</th>\n",
              "      <th>channels</th>\n",
              "      <th>difficulty</th>\n",
              "      <th>duration</th>\n",
              "      <th>offer_type</th>\n",
              "      <th>id</th>\n",
              "    </tr>\n",
              "  </thead>\n",
              "  <tbody>\n",
              "    <tr>\n",
              "      <th>0</th>\n",
              "      <td>10</td>\n",
              "      <td>[email, mobile, social]</td>\n",
              "      <td>10</td>\n",
              "      <td>7</td>\n",
              "      <td>bogo</td>\n",
              "      <td>ae264e3637204a6fb9bb56bc8210ddfd</td>\n",
              "    </tr>\n",
              "    <tr>\n",
              "      <th>1</th>\n",
              "      <td>10</td>\n",
              "      <td>[web, email, mobile, social]</td>\n",
              "      <td>10</td>\n",
              "      <td>5</td>\n",
              "      <td>bogo</td>\n",
              "      <td>4d5c57ea9a6940dd891ad53e9dbe8da0</td>\n",
              "    </tr>\n",
              "    <tr>\n",
              "      <th>2</th>\n",
              "      <td>0</td>\n",
              "      <td>[web, email, mobile]</td>\n",
              "      <td>0</td>\n",
              "      <td>4</td>\n",
              "      <td>informational</td>\n",
              "      <td>3f207df678b143eea3cee63160fa8bed</td>\n",
              "    </tr>\n",
              "    <tr>\n",
              "      <th>3</th>\n",
              "      <td>5</td>\n",
              "      <td>[web, email, mobile]</td>\n",
              "      <td>5</td>\n",
              "      <td>7</td>\n",
              "      <td>bogo</td>\n",
              "      <td>9b98b8c7a33c4b65b9aebfe6a799e6d9</td>\n",
              "    </tr>\n",
              "    <tr>\n",
              "      <th>4</th>\n",
              "      <td>5</td>\n",
              "      <td>[web, email]</td>\n",
              "      <td>20</td>\n",
              "      <td>10</td>\n",
              "      <td>discount</td>\n",
              "      <td>0b1e1539f2cc45b7b9fa7c272da2e1d7</td>\n",
              "    </tr>\n",
              "  </tbody>\n",
              "</table>\n",
              "</div>"
            ],
            "text/plain": [
              "   reward  ...                                id\n",
              "0      10  ...  ae264e3637204a6fb9bb56bc8210ddfd\n",
              "1      10  ...  4d5c57ea9a6940dd891ad53e9dbe8da0\n",
              "2       0  ...  3f207df678b143eea3cee63160fa8bed\n",
              "3       5  ...  9b98b8c7a33c4b65b9aebfe6a799e6d9\n",
              "4       5  ...  0b1e1539f2cc45b7b9fa7c272da2e1d7\n",
              "\n",
              "[5 rows x 6 columns]"
            ]
          },
          "metadata": {
            "tags": []
          },
          "execution_count": 27
        }
      ]
    },
    {
      "cell_type": "markdown",
      "metadata": {
        "id": "_1gLthudBpsJ"
      },
      "source": [
        "- convert channels to be one column each\n",
        "- change the duration to be hours\n",
        "- change the ids to easier ids and rename to customer_id"
      ]
    },
    {
      "cell_type": "code",
      "metadata": {
        "id": "UhAuwGZUBhKT"
      },
      "source": [
        "'''\n",
        "Clean the portfolio dataframe and return cleaned version. The cleaninign includes:\n",
        "    *converting channels to be one column each\n",
        "    *changing the duration to be hours\n",
        "    *changing the ids to easier ids and rename to customer_id\n",
        "arguments:\n",
        "    portfolio: the portfolio dataframe\n",
        "output:\n",
        "    portfolio: the cleaned portfolio dataframe\n",
        "    new_offer_ids: the mapping of old offer ids to new offer ids\n",
        "\n",
        "\n",
        "'''\n",
        "def clean_portfolio_df(portfolio):\n",
        "    # clean portfolio ----- to be converted to method later on.\n",
        "    #change the duraiton to be hours\n",
        "    portfolio['duration_hours'] = portfolio['duration'] * 24\n",
        "    portfolio.drop('duration',inplace=True,axis=1)\n",
        "\n",
        "    #conver the channels to seperate columns\n",
        "    portfolio['web'] = portfolio.apply(lambda x:0  if type(x['channels'])==float else (1 if 'web' in x['channels'] else 0) ,axis=1)\n",
        "    portfolio['email'] = portfolio.apply(lambda x:0  if type(x['channels'])==float else (1 if 'email' in x['channels'] else 0) ,axis=1)\n",
        "    portfolio['mobile'] = portfolio.apply(lambda x:0  if type(x['channels'])==float else (1 if 'mobile' in x['channels'] else 0) ,axis=1)\n",
        "    portfolio['social'] = portfolio.apply(lambda x:0  if type(x['channels'])==float else (1 if 'social' in x['channels'] else 0) ,axis=1)\n",
        "    portfolio.drop('channels',axis=1,inplace=True)\n",
        "    \n",
        "    \n",
        "    portfolio.rename(columns={'id':'offer_id'},inplace=True)\n",
        "\n",
        "\n",
        "    #reorder portfolio\n",
        "    portfolio = portfolio[['offer_id','offer_type','difficulty','reward','duration_hours','web','email','mobile','social']]\n",
        "    \n",
        "    return portfolio\n",
        "\n",
        "\n",
        "portfolio = clean_portfolio_df(portfolio)"
      ],
      "execution_count": null,
      "outputs": []
    },
    {
      "cell_type": "code",
      "metadata": {
        "colab": {
          "base_uri": "https://localhost:8080/",
          "height": 359
        },
        "id": "h1dmyWT_CKcc",
        "outputId": "72404e6a-019f-4b70-d642-9bf8322dd7d9"
      },
      "source": [
        "portfolio"
      ],
      "execution_count": null,
      "outputs": [
        {
          "output_type": "execute_result",
          "data": {
            "text/html": [
              "<div>\n",
              "<style scoped>\n",
              "    .dataframe tbody tr th:only-of-type {\n",
              "        vertical-align: middle;\n",
              "    }\n",
              "\n",
              "    .dataframe tbody tr th {\n",
              "        vertical-align: top;\n",
              "    }\n",
              "\n",
              "    .dataframe thead th {\n",
              "        text-align: right;\n",
              "    }\n",
              "</style>\n",
              "<table border=\"1\" class=\"dataframe\">\n",
              "  <thead>\n",
              "    <tr style=\"text-align: right;\">\n",
              "      <th></th>\n",
              "      <th>offer_id</th>\n",
              "      <th>offer_type</th>\n",
              "      <th>difficulty</th>\n",
              "      <th>reward</th>\n",
              "      <th>duration_hours</th>\n",
              "      <th>web</th>\n",
              "      <th>email</th>\n",
              "      <th>mobile</th>\n",
              "      <th>social</th>\n",
              "    </tr>\n",
              "  </thead>\n",
              "  <tbody>\n",
              "    <tr>\n",
              "      <th>0</th>\n",
              "      <td>ae264e3637204a6fb9bb56bc8210ddfd</td>\n",
              "      <td>bogo</td>\n",
              "      <td>10</td>\n",
              "      <td>10</td>\n",
              "      <td>168</td>\n",
              "      <td>0</td>\n",
              "      <td>1</td>\n",
              "      <td>1</td>\n",
              "      <td>1</td>\n",
              "    </tr>\n",
              "    <tr>\n",
              "      <th>1</th>\n",
              "      <td>4d5c57ea9a6940dd891ad53e9dbe8da0</td>\n",
              "      <td>bogo</td>\n",
              "      <td>10</td>\n",
              "      <td>10</td>\n",
              "      <td>120</td>\n",
              "      <td>1</td>\n",
              "      <td>1</td>\n",
              "      <td>1</td>\n",
              "      <td>1</td>\n",
              "    </tr>\n",
              "    <tr>\n",
              "      <th>2</th>\n",
              "      <td>3f207df678b143eea3cee63160fa8bed</td>\n",
              "      <td>informational</td>\n",
              "      <td>0</td>\n",
              "      <td>0</td>\n",
              "      <td>96</td>\n",
              "      <td>1</td>\n",
              "      <td>1</td>\n",
              "      <td>1</td>\n",
              "      <td>0</td>\n",
              "    </tr>\n",
              "    <tr>\n",
              "      <th>3</th>\n",
              "      <td>9b98b8c7a33c4b65b9aebfe6a799e6d9</td>\n",
              "      <td>bogo</td>\n",
              "      <td>5</td>\n",
              "      <td>5</td>\n",
              "      <td>168</td>\n",
              "      <td>1</td>\n",
              "      <td>1</td>\n",
              "      <td>1</td>\n",
              "      <td>0</td>\n",
              "    </tr>\n",
              "    <tr>\n",
              "      <th>4</th>\n",
              "      <td>0b1e1539f2cc45b7b9fa7c272da2e1d7</td>\n",
              "      <td>discount</td>\n",
              "      <td>20</td>\n",
              "      <td>5</td>\n",
              "      <td>240</td>\n",
              "      <td>1</td>\n",
              "      <td>1</td>\n",
              "      <td>0</td>\n",
              "      <td>0</td>\n",
              "    </tr>\n",
              "    <tr>\n",
              "      <th>5</th>\n",
              "      <td>2298d6c36e964ae4a3e7e9706d1fb8c2</td>\n",
              "      <td>discount</td>\n",
              "      <td>7</td>\n",
              "      <td>3</td>\n",
              "      <td>168</td>\n",
              "      <td>1</td>\n",
              "      <td>1</td>\n",
              "      <td>1</td>\n",
              "      <td>1</td>\n",
              "    </tr>\n",
              "    <tr>\n",
              "      <th>6</th>\n",
              "      <td>fafdcd668e3743c1bb461111dcafc2a4</td>\n",
              "      <td>discount</td>\n",
              "      <td>10</td>\n",
              "      <td>2</td>\n",
              "      <td>240</td>\n",
              "      <td>1</td>\n",
              "      <td>1</td>\n",
              "      <td>1</td>\n",
              "      <td>1</td>\n",
              "    </tr>\n",
              "    <tr>\n",
              "      <th>7</th>\n",
              "      <td>5a8bc65990b245e5a138643cd4eb9837</td>\n",
              "      <td>informational</td>\n",
              "      <td>0</td>\n",
              "      <td>0</td>\n",
              "      <td>72</td>\n",
              "      <td>0</td>\n",
              "      <td>1</td>\n",
              "      <td>1</td>\n",
              "      <td>1</td>\n",
              "    </tr>\n",
              "    <tr>\n",
              "      <th>8</th>\n",
              "      <td>f19421c1d4aa40978ebb69ca19b0e20d</td>\n",
              "      <td>bogo</td>\n",
              "      <td>5</td>\n",
              "      <td>5</td>\n",
              "      <td>120</td>\n",
              "      <td>1</td>\n",
              "      <td>1</td>\n",
              "      <td>1</td>\n",
              "      <td>1</td>\n",
              "    </tr>\n",
              "    <tr>\n",
              "      <th>9</th>\n",
              "      <td>2906b810c7d4411798c6938adc9daaa5</td>\n",
              "      <td>discount</td>\n",
              "      <td>10</td>\n",
              "      <td>2</td>\n",
              "      <td>168</td>\n",
              "      <td>1</td>\n",
              "      <td>1</td>\n",
              "      <td>1</td>\n",
              "      <td>0</td>\n",
              "    </tr>\n",
              "  </tbody>\n",
              "</table>\n",
              "</div>"
            ],
            "text/plain": [
              "                           offer_id     offer_type  ...  mobile  social\n",
              "0  ae264e3637204a6fb9bb56bc8210ddfd           bogo  ...       1       1\n",
              "1  4d5c57ea9a6940dd891ad53e9dbe8da0           bogo  ...       1       1\n",
              "2  3f207df678b143eea3cee63160fa8bed  informational  ...       1       0\n",
              "3  9b98b8c7a33c4b65b9aebfe6a799e6d9           bogo  ...       1       0\n",
              "4  0b1e1539f2cc45b7b9fa7c272da2e1d7       discount  ...       0       0\n",
              "5  2298d6c36e964ae4a3e7e9706d1fb8c2       discount  ...       1       1\n",
              "6  fafdcd668e3743c1bb461111dcafc2a4       discount  ...       1       1\n",
              "7  5a8bc65990b245e5a138643cd4eb9837  informational  ...       1       1\n",
              "8  f19421c1d4aa40978ebb69ca19b0e20d           bogo  ...       1       1\n",
              "9  2906b810c7d4411798c6938adc9daaa5       discount  ...       1       0\n",
              "\n",
              "[10 rows x 9 columns]"
            ]
          },
          "metadata": {
            "tags": []
          },
          "execution_count": 29
        }
      ]
    },
    {
      "cell_type": "markdown",
      "metadata": {
        "id": "2A7ZHmAVCirb"
      },
      "source": [
        "**Profil analysis**"
      ]
    },
    {
      "cell_type": "code",
      "metadata": {
        "colab": {
          "base_uri": "https://localhost:8080/",
          "height": 204
        },
        "id": "wmNOEKmgCfmL",
        "outputId": "0be687cc-6f3e-4dc0-e709-b22e6fed2a66"
      },
      "source": [
        "#before cleanining\n",
        "profile.head()"
      ],
      "execution_count": null,
      "outputs": [
        {
          "output_type": "execute_result",
          "data": {
            "text/html": [
              "<div>\n",
              "<style scoped>\n",
              "    .dataframe tbody tr th:only-of-type {\n",
              "        vertical-align: middle;\n",
              "    }\n",
              "\n",
              "    .dataframe tbody tr th {\n",
              "        vertical-align: top;\n",
              "    }\n",
              "\n",
              "    .dataframe thead th {\n",
              "        text-align: right;\n",
              "    }\n",
              "</style>\n",
              "<table border=\"1\" class=\"dataframe\">\n",
              "  <thead>\n",
              "    <tr style=\"text-align: right;\">\n",
              "      <th></th>\n",
              "      <th>gender</th>\n",
              "      <th>age</th>\n",
              "      <th>id</th>\n",
              "      <th>became_member_on</th>\n",
              "      <th>income</th>\n",
              "    </tr>\n",
              "  </thead>\n",
              "  <tbody>\n",
              "    <tr>\n",
              "      <th>0</th>\n",
              "      <td>None</td>\n",
              "      <td>118</td>\n",
              "      <td>68be06ca386d4c31939f3a4f0e3dd783</td>\n",
              "      <td>20170212</td>\n",
              "      <td>NaN</td>\n",
              "    </tr>\n",
              "    <tr>\n",
              "      <th>1</th>\n",
              "      <td>F</td>\n",
              "      <td>55</td>\n",
              "      <td>0610b486422d4921ae7d2bf64640c50b</td>\n",
              "      <td>20170715</td>\n",
              "      <td>112000.0</td>\n",
              "    </tr>\n",
              "    <tr>\n",
              "      <th>2</th>\n",
              "      <td>None</td>\n",
              "      <td>118</td>\n",
              "      <td>38fe809add3b4fcf9315a9694bb96ff5</td>\n",
              "      <td>20180712</td>\n",
              "      <td>NaN</td>\n",
              "    </tr>\n",
              "    <tr>\n",
              "      <th>3</th>\n",
              "      <td>F</td>\n",
              "      <td>75</td>\n",
              "      <td>78afa995795e4d85b5d9ceeca43f5fef</td>\n",
              "      <td>20170509</td>\n",
              "      <td>100000.0</td>\n",
              "    </tr>\n",
              "    <tr>\n",
              "      <th>4</th>\n",
              "      <td>None</td>\n",
              "      <td>118</td>\n",
              "      <td>a03223e636434f42ac4c3df47e8bac43</td>\n",
              "      <td>20170804</td>\n",
              "      <td>NaN</td>\n",
              "    </tr>\n",
              "  </tbody>\n",
              "</table>\n",
              "</div>"
            ],
            "text/plain": [
              "  gender  age                                id  became_member_on    income\n",
              "0   None  118  68be06ca386d4c31939f3a4f0e3dd783          20170212       NaN\n",
              "1      F   55  0610b486422d4921ae7d2bf64640c50b          20170715  112000.0\n",
              "2   None  118  38fe809add3b4fcf9315a9694bb96ff5          20180712       NaN\n",
              "3      F   75  78afa995795e4d85b5d9ceeca43f5fef          20170509  100000.0\n",
              "4   None  118  a03223e636434f42ac4c3df47e8bac43          20170804       NaN"
            ]
          },
          "metadata": {
            "tags": []
          },
          "execution_count": 30
        }
      ]
    },
    {
      "cell_type": "markdown",
      "metadata": {
        "id": "mVAzkMTFCxDY"
      },
      "source": [
        "- change the ids to readable ids\n",
        "- change ids column to customer_id\n",
        "- introduce number of days since joining column\n",
        "- introduce customer_type (new,regular,loyal)\n",
        "- introduce year of join\n",
        "- introduce age group (young_adult,middle_age_adult,old_adult)\n",
        "- introduce income_range (low,mid,high)\n",
        "- keep track of the new ids and old ids of the records to drop\n",
        "- drop 118 years of age records"
      ]
    },
    {
      "cell_type": "code",
      "metadata": {
        "colab": {
          "base_uri": "https://localhost:8080/"
        },
        "id": "2G5Us9OoDspg",
        "outputId": "06088c0b-53e9-4259-fa75-6ce5817504b5"
      },
      "source": [
        "profile.columns"
      ],
      "execution_count": null,
      "outputs": [
        {
          "output_type": "execute_result",
          "data": {
            "text/plain": [
              "Index(['gender', 'age', 'id', 'became_member_on', 'income'], dtype='object')"
            ]
          },
          "metadata": {
            "tags": []
          },
          "execution_count": 31
        }
      ]
    },
    {
      "cell_type": "code",
      "metadata": {
        "id": "8bN5ePGJCrjp"
      },
      "source": [
        "'''\n",
        "Clean the profile dataframe by doing the following:\n",
        "    *change the ids to readable ids\n",
        "    *change ids column to customer_id\n",
        "    *introduce number of days since joining column\n",
        "    *introduce customer_type (new,regular,loyal)\n",
        "    *introduce year of join\n",
        "    *introduce age group (young_adult,middle_age_adult,old_adult)\n",
        "    *introduce income_range (low,mid,high)\n",
        "    *keep track of the new ids and old ids of the records to drop\n",
        "    *drop 118 years of age records\n",
        "arguments:\n",
        "    profile: profile dataframe\n",
        "output:\n",
        "    profile: the cleaned profile dataframe\n",
        "    deleted_customer_ids: list of deleted customers\n",
        "    new_customer_ids: mapping of old customer ids to new customer ids\n",
        "\n",
        "\n",
        "'''\n",
        "\n",
        "def clean_profile_df(profile):\n",
        "    #rename id\n",
        "    profile.rename(columns={'id':'customer_id'},inplace=True)\n",
        "\n",
        "    #introduce year of join\n",
        "    profile['year_joined'] = profile['became_member_on'].apply(lambda x:str(x)[:4])\n",
        "    # introduce number of days since join\n",
        "    date_today = date.today()\n",
        "    profile['days_as_member'] = profile['became_member_on'].apply(lambda x: date_today -  date(int(str(x)[:4]),\n",
        "                                                                    int(str(x)[4:6]),int(str(x)[6:])))\n",
        "    profile['days_as_member'] = profile['days_as_member'].apply(lambda x: x.days)\n",
        "    #introduce customer type\n",
        "    profile['customer_type'] = profile['days_as_member'].apply(lambda x: 'new' if x < 1095 else \n",
        "                                                               ('regular' if x < 2190 else 'loyal'))\n",
        "    profile.drop('became_member_on',axis=1,inplace=True)\n",
        "    # introduce age group\n",
        "    profile['age_group'] = profile['age'].apply(lambda x: 'young_adult' if x < 40 else\n",
        "                                                ('middle_age' if x < 60 else 'old'))\n",
        "    # introduce income range\n",
        "    profile['income_range'] = profile['income'].apply(lambda x: 'low' if x < 65000 else\n",
        "                                                      ('mid' if x < 100000 else 'high'))\n",
        "    #keep track of deleted ids \n",
        "    deleted_customer_ids = profile[profile['age'] == 118].customer_id.tolist()\n",
        "    profile.drop(profile.loc[profile['age'] == 118].index,axis=0,inplace=True)\n",
        "\n",
        "    #reorder columns \n",
        "    profile = profile[['customer_id','gender','age','age_group','income','income_range','year_joined'\n",
        "                       ,'days_as_member','customer_type']]\n",
        "    \n",
        "    return profile,deleted_customer_ids\n",
        "\n",
        "profile,deleted_customer_ids= clean_profile_df(profile)"
      ],
      "execution_count": null,
      "outputs": []
    },
    {
      "cell_type": "code",
      "metadata": {
        "colab": {
          "base_uri": "https://localhost:8080/",
          "height": 419
        },
        "id": "WLXY6052DB2u",
        "outputId": "0ecc7506-9c47-467b-b302-f89df562c02e"
      },
      "source": [
        "profile"
      ],
      "execution_count": null,
      "outputs": [
        {
          "output_type": "execute_result",
          "data": {
            "text/html": [
              "<div>\n",
              "<style scoped>\n",
              "    .dataframe tbody tr th:only-of-type {\n",
              "        vertical-align: middle;\n",
              "    }\n",
              "\n",
              "    .dataframe tbody tr th {\n",
              "        vertical-align: top;\n",
              "    }\n",
              "\n",
              "    .dataframe thead th {\n",
              "        text-align: right;\n",
              "    }\n",
              "</style>\n",
              "<table border=\"1\" class=\"dataframe\">\n",
              "  <thead>\n",
              "    <tr style=\"text-align: right;\">\n",
              "      <th></th>\n",
              "      <th>customer_id</th>\n",
              "      <th>gender</th>\n",
              "      <th>age</th>\n",
              "      <th>age_group</th>\n",
              "      <th>income</th>\n",
              "      <th>income_range</th>\n",
              "      <th>year_joined</th>\n",
              "      <th>days_as_member</th>\n",
              "      <th>customer_type</th>\n",
              "    </tr>\n",
              "  </thead>\n",
              "  <tbody>\n",
              "    <tr>\n",
              "      <th>1</th>\n",
              "      <td>0610b486422d4921ae7d2bf64640c50b</td>\n",
              "      <td>F</td>\n",
              "      <td>55</td>\n",
              "      <td>middle_age</td>\n",
              "      <td>112000.0</td>\n",
              "      <td>high</td>\n",
              "      <td>2017</td>\n",
              "      <td>1455</td>\n",
              "      <td>regular</td>\n",
              "    </tr>\n",
              "    <tr>\n",
              "      <th>3</th>\n",
              "      <td>78afa995795e4d85b5d9ceeca43f5fef</td>\n",
              "      <td>F</td>\n",
              "      <td>75</td>\n",
              "      <td>old</td>\n",
              "      <td>100000.0</td>\n",
              "      <td>high</td>\n",
              "      <td>2017</td>\n",
              "      <td>1522</td>\n",
              "      <td>regular</td>\n",
              "    </tr>\n",
              "    <tr>\n",
              "      <th>5</th>\n",
              "      <td>e2127556f4f64592b11af22de27a7932</td>\n",
              "      <td>M</td>\n",
              "      <td>68</td>\n",
              "      <td>old</td>\n",
              "      <td>70000.0</td>\n",
              "      <td>mid</td>\n",
              "      <td>2018</td>\n",
              "      <td>1170</td>\n",
              "      <td>regular</td>\n",
              "    </tr>\n",
              "    <tr>\n",
              "      <th>8</th>\n",
              "      <td>389bc3fa690240e798340f5a15918d5c</td>\n",
              "      <td>M</td>\n",
              "      <td>65</td>\n",
              "      <td>old</td>\n",
              "      <td>53000.0</td>\n",
              "      <td>low</td>\n",
              "      <td>2018</td>\n",
              "      <td>1246</td>\n",
              "      <td>regular</td>\n",
              "    </tr>\n",
              "    <tr>\n",
              "      <th>12</th>\n",
              "      <td>2eeac8d8feae4a8cad5a6af0499a211d</td>\n",
              "      <td>M</td>\n",
              "      <td>58</td>\n",
              "      <td>middle_age</td>\n",
              "      <td>51000.0</td>\n",
              "      <td>low</td>\n",
              "      <td>2017</td>\n",
              "      <td>1336</td>\n",
              "      <td>regular</td>\n",
              "    </tr>\n",
              "    <tr>\n",
              "      <th>...</th>\n",
              "      <td>...</td>\n",
              "      <td>...</td>\n",
              "      <td>...</td>\n",
              "      <td>...</td>\n",
              "      <td>...</td>\n",
              "      <td>...</td>\n",
              "      <td>...</td>\n",
              "      <td>...</td>\n",
              "      <td>...</td>\n",
              "    </tr>\n",
              "    <tr>\n",
              "      <th>16995</th>\n",
              "      <td>6d5f3a774f3d4714ab0c092238f3a1d7</td>\n",
              "      <td>F</td>\n",
              "      <td>45</td>\n",
              "      <td>middle_age</td>\n",
              "      <td>54000.0</td>\n",
              "      <td>low</td>\n",
              "      <td>2018</td>\n",
              "      <td>1131</td>\n",
              "      <td>regular</td>\n",
              "    </tr>\n",
              "    <tr>\n",
              "      <th>16996</th>\n",
              "      <td>2cb4f97358b841b9a9773a7aa05a9d77</td>\n",
              "      <td>M</td>\n",
              "      <td>61</td>\n",
              "      <td>old</td>\n",
              "      <td>72000.0</td>\n",
              "      <td>mid</td>\n",
              "      <td>2018</td>\n",
              "      <td>1092</td>\n",
              "      <td>new</td>\n",
              "    </tr>\n",
              "    <tr>\n",
              "      <th>16997</th>\n",
              "      <td>01d26f638c274aa0b965d24cefe3183f</td>\n",
              "      <td>M</td>\n",
              "      <td>49</td>\n",
              "      <td>middle_age</td>\n",
              "      <td>73000.0</td>\n",
              "      <td>mid</td>\n",
              "      <td>2017</td>\n",
              "      <td>1625</td>\n",
              "      <td>regular</td>\n",
              "    </tr>\n",
              "    <tr>\n",
              "      <th>16998</th>\n",
              "      <td>9dc1421481194dcd9400aec7c9ae6366</td>\n",
              "      <td>F</td>\n",
              "      <td>83</td>\n",
              "      <td>old</td>\n",
              "      <td>50000.0</td>\n",
              "      <td>low</td>\n",
              "      <td>2016</td>\n",
              "      <td>1950</td>\n",
              "      <td>regular</td>\n",
              "    </tr>\n",
              "    <tr>\n",
              "      <th>16999</th>\n",
              "      <td>e4052622e5ba45a8b96b59aba68cf068</td>\n",
              "      <td>F</td>\n",
              "      <td>62</td>\n",
              "      <td>old</td>\n",
              "      <td>82000.0</td>\n",
              "      <td>mid</td>\n",
              "      <td>2017</td>\n",
              "      <td>1448</td>\n",
              "      <td>regular</td>\n",
              "    </tr>\n",
              "  </tbody>\n",
              "</table>\n",
              "<p>14825 rows × 9 columns</p>\n",
              "</div>"
            ],
            "text/plain": [
              "                            customer_id gender  ...  days_as_member customer_type\n",
              "1      0610b486422d4921ae7d2bf64640c50b      F  ...            1455       regular\n",
              "3      78afa995795e4d85b5d9ceeca43f5fef      F  ...            1522       regular\n",
              "5      e2127556f4f64592b11af22de27a7932      M  ...            1170       regular\n",
              "8      389bc3fa690240e798340f5a15918d5c      M  ...            1246       regular\n",
              "12     2eeac8d8feae4a8cad5a6af0499a211d      M  ...            1336       regular\n",
              "...                                 ...    ...  ...             ...           ...\n",
              "16995  6d5f3a774f3d4714ab0c092238f3a1d7      F  ...            1131       regular\n",
              "16996  2cb4f97358b841b9a9773a7aa05a9d77      M  ...            1092           new\n",
              "16997  01d26f638c274aa0b965d24cefe3183f      M  ...            1625       regular\n",
              "16998  9dc1421481194dcd9400aec7c9ae6366      F  ...            1950       regular\n",
              "16999  e4052622e5ba45a8b96b59aba68cf068      F  ...            1448       regular\n",
              "\n",
              "[14825 rows x 9 columns]"
            ]
          },
          "metadata": {
            "tags": []
          },
          "execution_count": 33
        }
      ]
    },
    {
      "cell_type": "markdown",
      "metadata": {
        "id": "UdyycRucF_71"
      },
      "source": [
        "**Transcript**"
      ]
    },
    {
      "cell_type": "code",
      "metadata": {
        "colab": {
          "base_uri": "https://localhost:8080/",
          "height": 204
        },
        "id": "7Mjr2ESbFOYv",
        "outputId": "702d074a-a025-4a76-f01a-e331c7642fcb"
      },
      "source": [
        "#before cleanining\n",
        "transcript.head()"
      ],
      "execution_count": null,
      "outputs": [
        {
          "output_type": "execute_result",
          "data": {
            "text/html": [
              "<div>\n",
              "<style scoped>\n",
              "    .dataframe tbody tr th:only-of-type {\n",
              "        vertical-align: middle;\n",
              "    }\n",
              "\n",
              "    .dataframe tbody tr th {\n",
              "        vertical-align: top;\n",
              "    }\n",
              "\n",
              "    .dataframe thead th {\n",
              "        text-align: right;\n",
              "    }\n",
              "</style>\n",
              "<table border=\"1\" class=\"dataframe\">\n",
              "  <thead>\n",
              "    <tr style=\"text-align: right;\">\n",
              "      <th></th>\n",
              "      <th>person</th>\n",
              "      <th>event</th>\n",
              "      <th>value</th>\n",
              "      <th>time</th>\n",
              "    </tr>\n",
              "  </thead>\n",
              "  <tbody>\n",
              "    <tr>\n",
              "      <th>0</th>\n",
              "      <td>78afa995795e4d85b5d9ceeca43f5fef</td>\n",
              "      <td>offer received</td>\n",
              "      <td>{'offer id': '9b98b8c7a33c4b65b9aebfe6a799e6d9'}</td>\n",
              "      <td>0</td>\n",
              "    </tr>\n",
              "    <tr>\n",
              "      <th>1</th>\n",
              "      <td>a03223e636434f42ac4c3df47e8bac43</td>\n",
              "      <td>offer received</td>\n",
              "      <td>{'offer id': '0b1e1539f2cc45b7b9fa7c272da2e1d7'}</td>\n",
              "      <td>0</td>\n",
              "    </tr>\n",
              "    <tr>\n",
              "      <th>2</th>\n",
              "      <td>e2127556f4f64592b11af22de27a7932</td>\n",
              "      <td>offer received</td>\n",
              "      <td>{'offer id': '2906b810c7d4411798c6938adc9daaa5'}</td>\n",
              "      <td>0</td>\n",
              "    </tr>\n",
              "    <tr>\n",
              "      <th>3</th>\n",
              "      <td>8ec6ce2a7e7949b1bf142def7d0e0586</td>\n",
              "      <td>offer received</td>\n",
              "      <td>{'offer id': 'fafdcd668e3743c1bb461111dcafc2a4'}</td>\n",
              "      <td>0</td>\n",
              "    </tr>\n",
              "    <tr>\n",
              "      <th>4</th>\n",
              "      <td>68617ca6246f4fbc85e91a2a49552598</td>\n",
              "      <td>offer received</td>\n",
              "      <td>{'offer id': '4d5c57ea9a6940dd891ad53e9dbe8da0'}</td>\n",
              "      <td>0</td>\n",
              "    </tr>\n",
              "  </tbody>\n",
              "</table>\n",
              "</div>"
            ],
            "text/plain": [
              "                             person  ... time\n",
              "0  78afa995795e4d85b5d9ceeca43f5fef  ...    0\n",
              "1  a03223e636434f42ac4c3df47e8bac43  ...    0\n",
              "2  e2127556f4f64592b11af22de27a7932  ...    0\n",
              "3  8ec6ce2a7e7949b1bf142def7d0e0586  ...    0\n",
              "4  68617ca6246f4fbc85e91a2a49552598  ...    0\n",
              "\n",
              "[5 rows x 4 columns]"
            ]
          },
          "metadata": {
            "tags": []
          },
          "execution_count": 34
        }
      ]
    },
    {
      "cell_type": "markdown",
      "metadata": {
        "id": "v25l-YQFGLtg"
      },
      "source": [
        "\n",
        "* extract value to seperate columns (offer_id,reward,amount)\n",
        "* Convert transcript time from hours to days"
      ]
    },
    {
      "cell_type": "code",
      "metadata": {
        "id": "WsmJdM6Vvyzc"
      },
      "source": [
        "def clean_transcript(transcript):\n",
        "    \n",
        "    #Extract offer_id from value column\n",
        "    transcript['offer_id'] = transcript['value'].apply(lambda x: x['offer_id'] if 'offer_id' in x else (x['offer id'] if 'offer id' in x else None))\n",
        "    \n",
        "    #create two seperate columns for reward and amount\n",
        "    \n",
        "    for i in ['reward','amount']:\n",
        "        transcript[i] = transcript['value'].apply(lambda x:x[i] if i in x else None)\n",
        "    \n",
        "    transcript.drop('value',axis=1,inplace=True)\n",
        "    \n",
        "    #rename customer_id\n",
        "    transcript.rename(columns={'person':'customer_id'},inplace=True)\n",
        "    \n",
        "    #Convert transcript time from hours to days\n",
        "    transcript['time'] = transcript['time'] / 24\n",
        "    \n",
        "    return transcript\n",
        "transcript = clean_transcript(transcript)"
      ],
      "execution_count": null,
      "outputs": []
    },
    {
      "cell_type": "code",
      "metadata": {
        "colab": {
          "base_uri": "https://localhost:8080/",
          "height": 419
        },
        "id": "HuMz1ZxYGlvX",
        "outputId": "b814e1ea-b342-4bfa-bfa1-af2abd0a969f"
      },
      "source": [
        "#after cleanining\n",
        "transcript"
      ],
      "execution_count": null,
      "outputs": [
        {
          "output_type": "execute_result",
          "data": {
            "text/html": [
              "<div>\n",
              "<style scoped>\n",
              "    .dataframe tbody tr th:only-of-type {\n",
              "        vertical-align: middle;\n",
              "    }\n",
              "\n",
              "    .dataframe tbody tr th {\n",
              "        vertical-align: top;\n",
              "    }\n",
              "\n",
              "    .dataframe thead th {\n",
              "        text-align: right;\n",
              "    }\n",
              "</style>\n",
              "<table border=\"1\" class=\"dataframe\">\n",
              "  <thead>\n",
              "    <tr style=\"text-align: right;\">\n",
              "      <th></th>\n",
              "      <th>customer_id</th>\n",
              "      <th>event</th>\n",
              "      <th>time</th>\n",
              "      <th>offer_id</th>\n",
              "      <th>reward</th>\n",
              "      <th>amount</th>\n",
              "    </tr>\n",
              "  </thead>\n",
              "  <tbody>\n",
              "    <tr>\n",
              "      <th>0</th>\n",
              "      <td>78afa995795e4d85b5d9ceeca43f5fef</td>\n",
              "      <td>offer received</td>\n",
              "      <td>0.00</td>\n",
              "      <td>9b98b8c7a33c4b65b9aebfe6a799e6d9</td>\n",
              "      <td>NaN</td>\n",
              "      <td>NaN</td>\n",
              "    </tr>\n",
              "    <tr>\n",
              "      <th>1</th>\n",
              "      <td>a03223e636434f42ac4c3df47e8bac43</td>\n",
              "      <td>offer received</td>\n",
              "      <td>0.00</td>\n",
              "      <td>0b1e1539f2cc45b7b9fa7c272da2e1d7</td>\n",
              "      <td>NaN</td>\n",
              "      <td>NaN</td>\n",
              "    </tr>\n",
              "    <tr>\n",
              "      <th>2</th>\n",
              "      <td>e2127556f4f64592b11af22de27a7932</td>\n",
              "      <td>offer received</td>\n",
              "      <td>0.00</td>\n",
              "      <td>2906b810c7d4411798c6938adc9daaa5</td>\n",
              "      <td>NaN</td>\n",
              "      <td>NaN</td>\n",
              "    </tr>\n",
              "    <tr>\n",
              "      <th>3</th>\n",
              "      <td>8ec6ce2a7e7949b1bf142def7d0e0586</td>\n",
              "      <td>offer received</td>\n",
              "      <td>0.00</td>\n",
              "      <td>fafdcd668e3743c1bb461111dcafc2a4</td>\n",
              "      <td>NaN</td>\n",
              "      <td>NaN</td>\n",
              "    </tr>\n",
              "    <tr>\n",
              "      <th>4</th>\n",
              "      <td>68617ca6246f4fbc85e91a2a49552598</td>\n",
              "      <td>offer received</td>\n",
              "      <td>0.00</td>\n",
              "      <td>4d5c57ea9a6940dd891ad53e9dbe8da0</td>\n",
              "      <td>NaN</td>\n",
              "      <td>NaN</td>\n",
              "    </tr>\n",
              "    <tr>\n",
              "      <th>...</th>\n",
              "      <td>...</td>\n",
              "      <td>...</td>\n",
              "      <td>...</td>\n",
              "      <td>...</td>\n",
              "      <td>...</td>\n",
              "      <td>...</td>\n",
              "    </tr>\n",
              "    <tr>\n",
              "      <th>306529</th>\n",
              "      <td>b3a1272bc9904337b331bf348c3e8c17</td>\n",
              "      <td>transaction</td>\n",
              "      <td>29.75</td>\n",
              "      <td>None</td>\n",
              "      <td>NaN</td>\n",
              "      <td>1.59</td>\n",
              "    </tr>\n",
              "    <tr>\n",
              "      <th>306530</th>\n",
              "      <td>68213b08d99a4ae1b0dcb72aebd9aa35</td>\n",
              "      <td>transaction</td>\n",
              "      <td>29.75</td>\n",
              "      <td>None</td>\n",
              "      <td>NaN</td>\n",
              "      <td>9.53</td>\n",
              "    </tr>\n",
              "    <tr>\n",
              "      <th>306531</th>\n",
              "      <td>a00058cf10334a308c68e7631c529907</td>\n",
              "      <td>transaction</td>\n",
              "      <td>29.75</td>\n",
              "      <td>None</td>\n",
              "      <td>NaN</td>\n",
              "      <td>3.61</td>\n",
              "    </tr>\n",
              "    <tr>\n",
              "      <th>306532</th>\n",
              "      <td>76ddbd6576844afe811f1a3c0fbb5bec</td>\n",
              "      <td>transaction</td>\n",
              "      <td>29.75</td>\n",
              "      <td>None</td>\n",
              "      <td>NaN</td>\n",
              "      <td>3.53</td>\n",
              "    </tr>\n",
              "    <tr>\n",
              "      <th>306533</th>\n",
              "      <td>c02b10e8752c4d8e9b73f918558531f7</td>\n",
              "      <td>transaction</td>\n",
              "      <td>29.75</td>\n",
              "      <td>None</td>\n",
              "      <td>NaN</td>\n",
              "      <td>4.05</td>\n",
              "    </tr>\n",
              "  </tbody>\n",
              "</table>\n",
              "<p>306534 rows × 6 columns</p>\n",
              "</div>"
            ],
            "text/plain": [
              "                             customer_id           event  ...  reward amount\n",
              "0       78afa995795e4d85b5d9ceeca43f5fef  offer received  ...     NaN    NaN\n",
              "1       a03223e636434f42ac4c3df47e8bac43  offer received  ...     NaN    NaN\n",
              "2       e2127556f4f64592b11af22de27a7932  offer received  ...     NaN    NaN\n",
              "3       8ec6ce2a7e7949b1bf142def7d0e0586  offer received  ...     NaN    NaN\n",
              "4       68617ca6246f4fbc85e91a2a49552598  offer received  ...     NaN    NaN\n",
              "...                                  ...             ...  ...     ...    ...\n",
              "306529  b3a1272bc9904337b331bf348c3e8c17     transaction  ...     NaN   1.59\n",
              "306530  68213b08d99a4ae1b0dcb72aebd9aa35     transaction  ...     NaN   9.53\n",
              "306531  a00058cf10334a308c68e7631c529907     transaction  ...     NaN   3.61\n",
              "306532  76ddbd6576844afe811f1a3c0fbb5bec     transaction  ...     NaN   3.53\n",
              "306533  c02b10e8752c4d8e9b73f918558531f7     transaction  ...     NaN   4.05\n",
              "\n",
              "[306534 rows x 6 columns]"
            ]
          },
          "metadata": {
            "tags": []
          },
          "execution_count": 36
        }
      ]
    },
    {
      "cell_type": "code",
      "metadata": {
        "colab": {
          "base_uri": "https://localhost:8080/",
          "height": 607
        },
        "id": "Sar2lgg_wzlj",
        "outputId": "07efa321-7ede-49b0-ea93-7af24318dc76"
      },
      "source": [
        "#Explore transcript for one person\n",
        "\n",
        "transcript[transcript['customer_id']=='78afa995795e4d85b5d9ceeca43f5fef']"
      ],
      "execution_count": null,
      "outputs": [
        {
          "output_type": "execute_result",
          "data": {
            "text/html": [
              "<div>\n",
              "<style scoped>\n",
              "    .dataframe tbody tr th:only-of-type {\n",
              "        vertical-align: middle;\n",
              "    }\n",
              "\n",
              "    .dataframe tbody tr th {\n",
              "        vertical-align: top;\n",
              "    }\n",
              "\n",
              "    .dataframe thead th {\n",
              "        text-align: right;\n",
              "    }\n",
              "</style>\n",
              "<table border=\"1\" class=\"dataframe\">\n",
              "  <thead>\n",
              "    <tr style=\"text-align: right;\">\n",
              "      <th></th>\n",
              "      <th>customer_id</th>\n",
              "      <th>event</th>\n",
              "      <th>time</th>\n",
              "      <th>offer_id</th>\n",
              "      <th>reward</th>\n",
              "      <th>amount</th>\n",
              "    </tr>\n",
              "  </thead>\n",
              "  <tbody>\n",
              "    <tr>\n",
              "      <th>0</th>\n",
              "      <td>78afa995795e4d85b5d9ceeca43f5fef</td>\n",
              "      <td>offer received</td>\n",
              "      <td>0.00</td>\n",
              "      <td>9b98b8c7a33c4b65b9aebfe6a799e6d9</td>\n",
              "      <td>NaN</td>\n",
              "      <td>NaN</td>\n",
              "    </tr>\n",
              "    <tr>\n",
              "      <th>15561</th>\n",
              "      <td>78afa995795e4d85b5d9ceeca43f5fef</td>\n",
              "      <td>offer viewed</td>\n",
              "      <td>0.25</td>\n",
              "      <td>9b98b8c7a33c4b65b9aebfe6a799e6d9</td>\n",
              "      <td>NaN</td>\n",
              "      <td>NaN</td>\n",
              "    </tr>\n",
              "    <tr>\n",
              "      <th>47582</th>\n",
              "      <td>78afa995795e4d85b5d9ceeca43f5fef</td>\n",
              "      <td>transaction</td>\n",
              "      <td>5.50</td>\n",
              "      <td>None</td>\n",
              "      <td>NaN</td>\n",
              "      <td>19.89</td>\n",
              "    </tr>\n",
              "    <tr>\n",
              "      <th>47583</th>\n",
              "      <td>78afa995795e4d85b5d9ceeca43f5fef</td>\n",
              "      <td>offer completed</td>\n",
              "      <td>5.50</td>\n",
              "      <td>9b98b8c7a33c4b65b9aebfe6a799e6d9</td>\n",
              "      <td>5.0</td>\n",
              "      <td>NaN</td>\n",
              "    </tr>\n",
              "    <tr>\n",
              "      <th>49502</th>\n",
              "      <td>78afa995795e4d85b5d9ceeca43f5fef</td>\n",
              "      <td>transaction</td>\n",
              "      <td>6.00</td>\n",
              "      <td>None</td>\n",
              "      <td>NaN</td>\n",
              "      <td>17.78</td>\n",
              "    </tr>\n",
              "    <tr>\n",
              "      <th>53176</th>\n",
              "      <td>78afa995795e4d85b5d9ceeca43f5fef</td>\n",
              "      <td>offer received</td>\n",
              "      <td>7.00</td>\n",
              "      <td>5a8bc65990b245e5a138643cd4eb9837</td>\n",
              "      <td>NaN</td>\n",
              "      <td>NaN</td>\n",
              "    </tr>\n",
              "    <tr>\n",
              "      <th>85291</th>\n",
              "      <td>78afa995795e4d85b5d9ceeca43f5fef</td>\n",
              "      <td>offer viewed</td>\n",
              "      <td>9.00</td>\n",
              "      <td>5a8bc65990b245e5a138643cd4eb9837</td>\n",
              "      <td>NaN</td>\n",
              "      <td>NaN</td>\n",
              "    </tr>\n",
              "    <tr>\n",
              "      <th>87134</th>\n",
              "      <td>78afa995795e4d85b5d9ceeca43f5fef</td>\n",
              "      <td>transaction</td>\n",
              "      <td>9.25</td>\n",
              "      <td>None</td>\n",
              "      <td>NaN</td>\n",
              "      <td>19.67</td>\n",
              "    </tr>\n",
              "    <tr>\n",
              "      <th>92104</th>\n",
              "      <td>78afa995795e4d85b5d9ceeca43f5fef</td>\n",
              "      <td>transaction</td>\n",
              "      <td>10.00</td>\n",
              "      <td>None</td>\n",
              "      <td>NaN</td>\n",
              "      <td>29.72</td>\n",
              "    </tr>\n",
              "    <tr>\n",
              "      <th>141566</th>\n",
              "      <td>78afa995795e4d85b5d9ceeca43f5fef</td>\n",
              "      <td>transaction</td>\n",
              "      <td>15.75</td>\n",
              "      <td>None</td>\n",
              "      <td>NaN</td>\n",
              "      <td>23.93</td>\n",
              "    </tr>\n",
              "    <tr>\n",
              "      <th>150598</th>\n",
              "      <td>78afa995795e4d85b5d9ceeca43f5fef</td>\n",
              "      <td>offer received</td>\n",
              "      <td>17.00</td>\n",
              "      <td>ae264e3637204a6fb9bb56bc8210ddfd</td>\n",
              "      <td>NaN</td>\n",
              "      <td>NaN</td>\n",
              "    </tr>\n",
              "    <tr>\n",
              "      <th>163375</th>\n",
              "      <td>78afa995795e4d85b5d9ceeca43f5fef</td>\n",
              "      <td>offer viewed</td>\n",
              "      <td>17.00</td>\n",
              "      <td>ae264e3637204a6fb9bb56bc8210ddfd</td>\n",
              "      <td>NaN</td>\n",
              "      <td>NaN</td>\n",
              "    </tr>\n",
              "    <tr>\n",
              "      <th>201572</th>\n",
              "      <td>78afa995795e4d85b5d9ceeca43f5fef</td>\n",
              "      <td>offer received</td>\n",
              "      <td>21.00</td>\n",
              "      <td>f19421c1d4aa40978ebb69ca19b0e20d</td>\n",
              "      <td>NaN</td>\n",
              "      <td>NaN</td>\n",
              "    </tr>\n",
              "    <tr>\n",
              "      <th>218393</th>\n",
              "      <td>78afa995795e4d85b5d9ceeca43f5fef</td>\n",
              "      <td>transaction</td>\n",
              "      <td>21.25</td>\n",
              "      <td>None</td>\n",
              "      <td>NaN</td>\n",
              "      <td>21.72</td>\n",
              "    </tr>\n",
              "    <tr>\n",
              "      <th>218394</th>\n",
              "      <td>78afa995795e4d85b5d9ceeca43f5fef</td>\n",
              "      <td>offer completed</td>\n",
              "      <td>21.25</td>\n",
              "      <td>ae264e3637204a6fb9bb56bc8210ddfd</td>\n",
              "      <td>10.0</td>\n",
              "      <td>NaN</td>\n",
              "    </tr>\n",
              "    <tr>\n",
              "      <th>218395</th>\n",
              "      <td>78afa995795e4d85b5d9ceeca43f5fef</td>\n",
              "      <td>offer completed</td>\n",
              "      <td>21.25</td>\n",
              "      <td>f19421c1d4aa40978ebb69ca19b0e20d</td>\n",
              "      <td>5.0</td>\n",
              "      <td>NaN</td>\n",
              "    </tr>\n",
              "    <tr>\n",
              "      <th>230412</th>\n",
              "      <td>78afa995795e4d85b5d9ceeca43f5fef</td>\n",
              "      <td>transaction</td>\n",
              "      <td>22.25</td>\n",
              "      <td>None</td>\n",
              "      <td>NaN</td>\n",
              "      <td>26.56</td>\n",
              "    </tr>\n",
              "    <tr>\n",
              "      <th>262138</th>\n",
              "      <td>78afa995795e4d85b5d9ceeca43f5fef</td>\n",
              "      <td>offer viewed</td>\n",
              "      <td>24.25</td>\n",
              "      <td>f19421c1d4aa40978ebb69ca19b0e20d</td>\n",
              "      <td>NaN</td>\n",
              "      <td>NaN</td>\n",
              "    </tr>\n",
              "  </tbody>\n",
              "</table>\n",
              "</div>"
            ],
            "text/plain": [
              "                             customer_id            event  ...  reward amount\n",
              "0       78afa995795e4d85b5d9ceeca43f5fef   offer received  ...     NaN    NaN\n",
              "15561   78afa995795e4d85b5d9ceeca43f5fef     offer viewed  ...     NaN    NaN\n",
              "47582   78afa995795e4d85b5d9ceeca43f5fef      transaction  ...     NaN  19.89\n",
              "47583   78afa995795e4d85b5d9ceeca43f5fef  offer completed  ...     5.0    NaN\n",
              "49502   78afa995795e4d85b5d9ceeca43f5fef      transaction  ...     NaN  17.78\n",
              "53176   78afa995795e4d85b5d9ceeca43f5fef   offer received  ...     NaN    NaN\n",
              "85291   78afa995795e4d85b5d9ceeca43f5fef     offer viewed  ...     NaN    NaN\n",
              "87134   78afa995795e4d85b5d9ceeca43f5fef      transaction  ...     NaN  19.67\n",
              "92104   78afa995795e4d85b5d9ceeca43f5fef      transaction  ...     NaN  29.72\n",
              "141566  78afa995795e4d85b5d9ceeca43f5fef      transaction  ...     NaN  23.93\n",
              "150598  78afa995795e4d85b5d9ceeca43f5fef   offer received  ...     NaN    NaN\n",
              "163375  78afa995795e4d85b5d9ceeca43f5fef     offer viewed  ...     NaN    NaN\n",
              "201572  78afa995795e4d85b5d9ceeca43f5fef   offer received  ...     NaN    NaN\n",
              "218393  78afa995795e4d85b5d9ceeca43f5fef      transaction  ...     NaN  21.72\n",
              "218394  78afa995795e4d85b5d9ceeca43f5fef  offer completed  ...    10.0    NaN\n",
              "218395  78afa995795e4d85b5d9ceeca43f5fef  offer completed  ...     5.0    NaN\n",
              "230412  78afa995795e4d85b5d9ceeca43f5fef      transaction  ...     NaN  26.56\n",
              "262138  78afa995795e4d85b5d9ceeca43f5fef     offer viewed  ...     NaN    NaN\n",
              "\n",
              "[18 rows x 6 columns]"
            ]
          },
          "metadata": {
            "tags": []
          },
          "execution_count": 37
        }
      ]
    },
    {
      "cell_type": "code",
      "metadata": {
        "id": "S_ItKFSmxAav"
      },
      "source": [
        "def transform_transcript(transcript):\n",
        "    '''\n",
        "    Function to transform transcript dataframe to return a dataframe where it shows each successful and unsuccesful offer.\n",
        "    \n",
        "    Input - Transcript dataframe \n",
        "    \n",
        "    Output - transformed transcript dataframe\n",
        "     \n",
        "    '''\n",
        "    \n",
        "    offer_customer = transcript.groupby(['customer_id','offer_id','event'])['time'].count().unstack()\n",
        "    \n",
        "    offer_customer.reset_index(level=[0,1],inplace = True)\n",
        "    \n",
        "    #Replace nan values with 0.0\n",
        "    \n",
        "    offer_customer.fillna(0.0, inplace = True)\n",
        "    \n",
        "    #Need to determine which offers where successful - where offer completed and offer viewed  are greater than 1.\n",
        "    \n",
        "    #We can multiply the two columns together and replace any values > 0 with 1.\n",
        "    \n",
        "    #This is an important step as some offers are completed but have not been viewed - meaning the offer did not cause the \n",
        "    #transaction.\n",
        "    \n",
        "    offer_customer['successful offer'] = offer_customer['offer completed'] * offer_customer['offer viewed']\n",
        "    \n",
        "    offer_customer['successful offer'] = offer_customer['successful offer'].apply(lambda x: 1.0 if x > 0 else 0.0)\n",
        "    \n",
        "    offer_customer.drop(['offer completed','offer viewed','offer received'],axis=1, inplace = True)\n",
        "                                                        \n",
        "                \n",
        "    return offer_customer\n",
        "\n",
        "transcript = transform_transcript(transcript)"
      ],
      "execution_count": null,
      "outputs": []
    },
    {
      "cell_type": "code",
      "metadata": {
        "colab": {
          "base_uri": "https://localhost:8080/",
          "height": 419
        },
        "id": "RHOaTAmNxaxm",
        "outputId": "15035500-9c13-4d9e-cfc1-f99385cd6601"
      },
      "source": [
        "transcript"
      ],
      "execution_count": null,
      "outputs": [
        {
          "output_type": "execute_result",
          "data": {
            "text/html": [
              "<div>\n",
              "<style scoped>\n",
              "    .dataframe tbody tr th:only-of-type {\n",
              "        vertical-align: middle;\n",
              "    }\n",
              "\n",
              "    .dataframe tbody tr th {\n",
              "        vertical-align: top;\n",
              "    }\n",
              "\n",
              "    .dataframe thead th {\n",
              "        text-align: right;\n",
              "    }\n",
              "</style>\n",
              "<table border=\"1\" class=\"dataframe\">\n",
              "  <thead>\n",
              "    <tr style=\"text-align: right;\">\n",
              "      <th>event</th>\n",
              "      <th>customer_id</th>\n",
              "      <th>offer_id</th>\n",
              "      <th>successful offer</th>\n",
              "    </tr>\n",
              "  </thead>\n",
              "  <tbody>\n",
              "    <tr>\n",
              "      <th>0</th>\n",
              "      <td>0009655768c64bdeb2e877511632db8f</td>\n",
              "      <td>2906b810c7d4411798c6938adc9daaa5</td>\n",
              "      <td>0.0</td>\n",
              "    </tr>\n",
              "    <tr>\n",
              "      <th>1</th>\n",
              "      <td>0009655768c64bdeb2e877511632db8f</td>\n",
              "      <td>3f207df678b143eea3cee63160fa8bed</td>\n",
              "      <td>0.0</td>\n",
              "    </tr>\n",
              "    <tr>\n",
              "      <th>2</th>\n",
              "      <td>0009655768c64bdeb2e877511632db8f</td>\n",
              "      <td>5a8bc65990b245e5a138643cd4eb9837</td>\n",
              "      <td>0.0</td>\n",
              "    </tr>\n",
              "    <tr>\n",
              "      <th>3</th>\n",
              "      <td>0009655768c64bdeb2e877511632db8f</td>\n",
              "      <td>f19421c1d4aa40978ebb69ca19b0e20d</td>\n",
              "      <td>1.0</td>\n",
              "    </tr>\n",
              "    <tr>\n",
              "      <th>4</th>\n",
              "      <td>0009655768c64bdeb2e877511632db8f</td>\n",
              "      <td>fafdcd668e3743c1bb461111dcafc2a4</td>\n",
              "      <td>1.0</td>\n",
              "    </tr>\n",
              "    <tr>\n",
              "      <th>...</th>\n",
              "      <td>...</td>\n",
              "      <td>...</td>\n",
              "      <td>...</td>\n",
              "    </tr>\n",
              "    <tr>\n",
              "      <th>63283</th>\n",
              "      <td>fffad4f4828548d1b5583907f2e9906b</td>\n",
              "      <td>f19421c1d4aa40978ebb69ca19b0e20d</td>\n",
              "      <td>1.0</td>\n",
              "    </tr>\n",
              "    <tr>\n",
              "      <th>63284</th>\n",
              "      <td>ffff82501cea40309d5fdd7edcca4a07</td>\n",
              "      <td>0b1e1539f2cc45b7b9fa7c272da2e1d7</td>\n",
              "      <td>1.0</td>\n",
              "    </tr>\n",
              "    <tr>\n",
              "      <th>63285</th>\n",
              "      <td>ffff82501cea40309d5fdd7edcca4a07</td>\n",
              "      <td>2906b810c7d4411798c6938adc9daaa5</td>\n",
              "      <td>1.0</td>\n",
              "    </tr>\n",
              "    <tr>\n",
              "      <th>63286</th>\n",
              "      <td>ffff82501cea40309d5fdd7edcca4a07</td>\n",
              "      <td>9b98b8c7a33c4b65b9aebfe6a799e6d9</td>\n",
              "      <td>1.0</td>\n",
              "    </tr>\n",
              "    <tr>\n",
              "      <th>63287</th>\n",
              "      <td>ffff82501cea40309d5fdd7edcca4a07</td>\n",
              "      <td>fafdcd668e3743c1bb461111dcafc2a4</td>\n",
              "      <td>1.0</td>\n",
              "    </tr>\n",
              "  </tbody>\n",
              "</table>\n",
              "<p>63288 rows × 3 columns</p>\n",
              "</div>"
            ],
            "text/plain": [
              "event                       customer_id  ... successful offer\n",
              "0      0009655768c64bdeb2e877511632db8f  ...              0.0\n",
              "1      0009655768c64bdeb2e877511632db8f  ...              0.0\n",
              "2      0009655768c64bdeb2e877511632db8f  ...              0.0\n",
              "3      0009655768c64bdeb2e877511632db8f  ...              1.0\n",
              "4      0009655768c64bdeb2e877511632db8f  ...              1.0\n",
              "...                                 ...  ...              ...\n",
              "63283  fffad4f4828548d1b5583907f2e9906b  ...              1.0\n",
              "63284  ffff82501cea40309d5fdd7edcca4a07  ...              1.0\n",
              "63285  ffff82501cea40309d5fdd7edcca4a07  ...              1.0\n",
              "63286  ffff82501cea40309d5fdd7edcca4a07  ...              1.0\n",
              "63287  ffff82501cea40309d5fdd7edcca4a07  ...              1.0\n",
              "\n",
              "[63288 rows x 3 columns]"
            ]
          },
          "metadata": {
            "tags": []
          },
          "execution_count": 39
        }
      ]
    },
    {
      "cell_type": "code",
      "metadata": {
        "colab": {
          "base_uri": "https://localhost:8080/",
          "height": 241
        },
        "id": "gnDwbTlmHpbP",
        "outputId": "7aaf437f-131a-4c5b-896a-1fcbebe9781a"
      },
      "source": [
        "def merge_dataframes(profile,portfolio,transcript):\n",
        "    \n",
        "    '''\n",
        "    Function to merge all the dataframes together.\n",
        "    \n",
        "    Input - profile, portfolio and transcript dataframes\n",
        "    \n",
        "    Output - single dataframe\n",
        "    \n",
        "    '''\n",
        "    \n",
        "    overall = transcript.merge(portfolio,how='left',on='offer_id')\n",
        "    \n",
        "    overall = overall.merge(profile,how='left',on='customer_id')\n",
        "    \n",
        "    \n",
        "    return overall\n",
        "\n",
        "\n",
        "df_master = merge_dataframes(profile,portfolio,transcript)\n",
        "\n",
        "df_master.head()"
      ],
      "execution_count": null,
      "outputs": [
        {
          "output_type": "execute_result",
          "data": {
            "text/html": [
              "<div>\n",
              "<style scoped>\n",
              "    .dataframe tbody tr th:only-of-type {\n",
              "        vertical-align: middle;\n",
              "    }\n",
              "\n",
              "    .dataframe tbody tr th {\n",
              "        vertical-align: top;\n",
              "    }\n",
              "\n",
              "    .dataframe thead th {\n",
              "        text-align: right;\n",
              "    }\n",
              "</style>\n",
              "<table border=\"1\" class=\"dataframe\">\n",
              "  <thead>\n",
              "    <tr style=\"text-align: right;\">\n",
              "      <th></th>\n",
              "      <th>customer_id</th>\n",
              "      <th>offer_id</th>\n",
              "      <th>successful offer</th>\n",
              "      <th>offer_type</th>\n",
              "      <th>difficulty</th>\n",
              "      <th>reward</th>\n",
              "      <th>duration_hours</th>\n",
              "      <th>web</th>\n",
              "      <th>email</th>\n",
              "      <th>mobile</th>\n",
              "      <th>social</th>\n",
              "      <th>gender</th>\n",
              "      <th>age</th>\n",
              "      <th>age_group</th>\n",
              "      <th>income</th>\n",
              "      <th>income_range</th>\n",
              "      <th>year_joined</th>\n",
              "      <th>days_as_member</th>\n",
              "      <th>customer_type</th>\n",
              "    </tr>\n",
              "  </thead>\n",
              "  <tbody>\n",
              "    <tr>\n",
              "      <th>0</th>\n",
              "      <td>0009655768c64bdeb2e877511632db8f</td>\n",
              "      <td>2906b810c7d4411798c6938adc9daaa5</td>\n",
              "      <td>0.0</td>\n",
              "      <td>discount</td>\n",
              "      <td>10</td>\n",
              "      <td>2</td>\n",
              "      <td>168</td>\n",
              "      <td>1</td>\n",
              "      <td>1</td>\n",
              "      <td>1</td>\n",
              "      <td>0</td>\n",
              "      <td>M</td>\n",
              "      <td>33.0</td>\n",
              "      <td>young_adult</td>\n",
              "      <td>72000.0</td>\n",
              "      <td>mid</td>\n",
              "      <td>2017</td>\n",
              "      <td>1540.0</td>\n",
              "      <td>regular</td>\n",
              "    </tr>\n",
              "    <tr>\n",
              "      <th>1</th>\n",
              "      <td>0009655768c64bdeb2e877511632db8f</td>\n",
              "      <td>3f207df678b143eea3cee63160fa8bed</td>\n",
              "      <td>0.0</td>\n",
              "      <td>informational</td>\n",
              "      <td>0</td>\n",
              "      <td>0</td>\n",
              "      <td>96</td>\n",
              "      <td>1</td>\n",
              "      <td>1</td>\n",
              "      <td>1</td>\n",
              "      <td>0</td>\n",
              "      <td>M</td>\n",
              "      <td>33.0</td>\n",
              "      <td>young_adult</td>\n",
              "      <td>72000.0</td>\n",
              "      <td>mid</td>\n",
              "      <td>2017</td>\n",
              "      <td>1540.0</td>\n",
              "      <td>regular</td>\n",
              "    </tr>\n",
              "    <tr>\n",
              "      <th>2</th>\n",
              "      <td>0009655768c64bdeb2e877511632db8f</td>\n",
              "      <td>5a8bc65990b245e5a138643cd4eb9837</td>\n",
              "      <td>0.0</td>\n",
              "      <td>informational</td>\n",
              "      <td>0</td>\n",
              "      <td>0</td>\n",
              "      <td>72</td>\n",
              "      <td>0</td>\n",
              "      <td>1</td>\n",
              "      <td>1</td>\n",
              "      <td>1</td>\n",
              "      <td>M</td>\n",
              "      <td>33.0</td>\n",
              "      <td>young_adult</td>\n",
              "      <td>72000.0</td>\n",
              "      <td>mid</td>\n",
              "      <td>2017</td>\n",
              "      <td>1540.0</td>\n",
              "      <td>regular</td>\n",
              "    </tr>\n",
              "    <tr>\n",
              "      <th>3</th>\n",
              "      <td>0009655768c64bdeb2e877511632db8f</td>\n",
              "      <td>f19421c1d4aa40978ebb69ca19b0e20d</td>\n",
              "      <td>1.0</td>\n",
              "      <td>bogo</td>\n",
              "      <td>5</td>\n",
              "      <td>5</td>\n",
              "      <td>120</td>\n",
              "      <td>1</td>\n",
              "      <td>1</td>\n",
              "      <td>1</td>\n",
              "      <td>1</td>\n",
              "      <td>M</td>\n",
              "      <td>33.0</td>\n",
              "      <td>young_adult</td>\n",
              "      <td>72000.0</td>\n",
              "      <td>mid</td>\n",
              "      <td>2017</td>\n",
              "      <td>1540.0</td>\n",
              "      <td>regular</td>\n",
              "    </tr>\n",
              "    <tr>\n",
              "      <th>4</th>\n",
              "      <td>0009655768c64bdeb2e877511632db8f</td>\n",
              "      <td>fafdcd668e3743c1bb461111dcafc2a4</td>\n",
              "      <td>1.0</td>\n",
              "      <td>discount</td>\n",
              "      <td>10</td>\n",
              "      <td>2</td>\n",
              "      <td>240</td>\n",
              "      <td>1</td>\n",
              "      <td>1</td>\n",
              "      <td>1</td>\n",
              "      <td>1</td>\n",
              "      <td>M</td>\n",
              "      <td>33.0</td>\n",
              "      <td>young_adult</td>\n",
              "      <td>72000.0</td>\n",
              "      <td>mid</td>\n",
              "      <td>2017</td>\n",
              "      <td>1540.0</td>\n",
              "      <td>regular</td>\n",
              "    </tr>\n",
              "  </tbody>\n",
              "</table>\n",
              "</div>"
            ],
            "text/plain": [
              "                        customer_id  ... customer_type\n",
              "0  0009655768c64bdeb2e877511632db8f  ...       regular\n",
              "1  0009655768c64bdeb2e877511632db8f  ...       regular\n",
              "2  0009655768c64bdeb2e877511632db8f  ...       regular\n",
              "3  0009655768c64bdeb2e877511632db8f  ...       regular\n",
              "4  0009655768c64bdeb2e877511632db8f  ...       regular\n",
              "\n",
              "[5 rows x 19 columns]"
            ]
          },
          "metadata": {
            "tags": []
          },
          "execution_count": 40
        }
      ]
    },
    {
      "cell_type": "code",
      "metadata": {
        "colab": {
          "base_uri": "https://localhost:8080/",
          "height": 456
        },
        "id": "jRv4UcK0IGnP",
        "outputId": "5b5bd0ff-01b6-4aa9-847e-9762a7b571b3"
      },
      "source": [
        "df_master"
      ],
      "execution_count": null,
      "outputs": [
        {
          "output_type": "execute_result",
          "data": {
            "text/html": [
              "<div>\n",
              "<style scoped>\n",
              "    .dataframe tbody tr th:only-of-type {\n",
              "        vertical-align: middle;\n",
              "    }\n",
              "\n",
              "    .dataframe tbody tr th {\n",
              "        vertical-align: top;\n",
              "    }\n",
              "\n",
              "    .dataframe thead th {\n",
              "        text-align: right;\n",
              "    }\n",
              "</style>\n",
              "<table border=\"1\" class=\"dataframe\">\n",
              "  <thead>\n",
              "    <tr style=\"text-align: right;\">\n",
              "      <th></th>\n",
              "      <th>customer_id</th>\n",
              "      <th>offer_id</th>\n",
              "      <th>successful offer</th>\n",
              "      <th>offer_type</th>\n",
              "      <th>difficulty</th>\n",
              "      <th>reward</th>\n",
              "      <th>duration_hours</th>\n",
              "      <th>web</th>\n",
              "      <th>email</th>\n",
              "      <th>mobile</th>\n",
              "      <th>social</th>\n",
              "      <th>gender</th>\n",
              "      <th>age</th>\n",
              "      <th>age_group</th>\n",
              "      <th>income</th>\n",
              "      <th>income_range</th>\n",
              "      <th>year_joined</th>\n",
              "      <th>days_as_member</th>\n",
              "      <th>customer_type</th>\n",
              "    </tr>\n",
              "  </thead>\n",
              "  <tbody>\n",
              "    <tr>\n",
              "      <th>0</th>\n",
              "      <td>0009655768c64bdeb2e877511632db8f</td>\n",
              "      <td>2906b810c7d4411798c6938adc9daaa5</td>\n",
              "      <td>0.0</td>\n",
              "      <td>discount</td>\n",
              "      <td>10</td>\n",
              "      <td>2</td>\n",
              "      <td>168</td>\n",
              "      <td>1</td>\n",
              "      <td>1</td>\n",
              "      <td>1</td>\n",
              "      <td>0</td>\n",
              "      <td>M</td>\n",
              "      <td>33.0</td>\n",
              "      <td>young_adult</td>\n",
              "      <td>72000.0</td>\n",
              "      <td>mid</td>\n",
              "      <td>2017</td>\n",
              "      <td>1540.0</td>\n",
              "      <td>regular</td>\n",
              "    </tr>\n",
              "    <tr>\n",
              "      <th>1</th>\n",
              "      <td>0009655768c64bdeb2e877511632db8f</td>\n",
              "      <td>3f207df678b143eea3cee63160fa8bed</td>\n",
              "      <td>0.0</td>\n",
              "      <td>informational</td>\n",
              "      <td>0</td>\n",
              "      <td>0</td>\n",
              "      <td>96</td>\n",
              "      <td>1</td>\n",
              "      <td>1</td>\n",
              "      <td>1</td>\n",
              "      <td>0</td>\n",
              "      <td>M</td>\n",
              "      <td>33.0</td>\n",
              "      <td>young_adult</td>\n",
              "      <td>72000.0</td>\n",
              "      <td>mid</td>\n",
              "      <td>2017</td>\n",
              "      <td>1540.0</td>\n",
              "      <td>regular</td>\n",
              "    </tr>\n",
              "    <tr>\n",
              "      <th>2</th>\n",
              "      <td>0009655768c64bdeb2e877511632db8f</td>\n",
              "      <td>5a8bc65990b245e5a138643cd4eb9837</td>\n",
              "      <td>0.0</td>\n",
              "      <td>informational</td>\n",
              "      <td>0</td>\n",
              "      <td>0</td>\n",
              "      <td>72</td>\n",
              "      <td>0</td>\n",
              "      <td>1</td>\n",
              "      <td>1</td>\n",
              "      <td>1</td>\n",
              "      <td>M</td>\n",
              "      <td>33.0</td>\n",
              "      <td>young_adult</td>\n",
              "      <td>72000.0</td>\n",
              "      <td>mid</td>\n",
              "      <td>2017</td>\n",
              "      <td>1540.0</td>\n",
              "      <td>regular</td>\n",
              "    </tr>\n",
              "    <tr>\n",
              "      <th>3</th>\n",
              "      <td>0009655768c64bdeb2e877511632db8f</td>\n",
              "      <td>f19421c1d4aa40978ebb69ca19b0e20d</td>\n",
              "      <td>1.0</td>\n",
              "      <td>bogo</td>\n",
              "      <td>5</td>\n",
              "      <td>5</td>\n",
              "      <td>120</td>\n",
              "      <td>1</td>\n",
              "      <td>1</td>\n",
              "      <td>1</td>\n",
              "      <td>1</td>\n",
              "      <td>M</td>\n",
              "      <td>33.0</td>\n",
              "      <td>young_adult</td>\n",
              "      <td>72000.0</td>\n",
              "      <td>mid</td>\n",
              "      <td>2017</td>\n",
              "      <td>1540.0</td>\n",
              "      <td>regular</td>\n",
              "    </tr>\n",
              "    <tr>\n",
              "      <th>4</th>\n",
              "      <td>0009655768c64bdeb2e877511632db8f</td>\n",
              "      <td>fafdcd668e3743c1bb461111dcafc2a4</td>\n",
              "      <td>1.0</td>\n",
              "      <td>discount</td>\n",
              "      <td>10</td>\n",
              "      <td>2</td>\n",
              "      <td>240</td>\n",
              "      <td>1</td>\n",
              "      <td>1</td>\n",
              "      <td>1</td>\n",
              "      <td>1</td>\n",
              "      <td>M</td>\n",
              "      <td>33.0</td>\n",
              "      <td>young_adult</td>\n",
              "      <td>72000.0</td>\n",
              "      <td>mid</td>\n",
              "      <td>2017</td>\n",
              "      <td>1540.0</td>\n",
              "      <td>regular</td>\n",
              "    </tr>\n",
              "    <tr>\n",
              "      <th>...</th>\n",
              "      <td>...</td>\n",
              "      <td>...</td>\n",
              "      <td>...</td>\n",
              "      <td>...</td>\n",
              "      <td>...</td>\n",
              "      <td>...</td>\n",
              "      <td>...</td>\n",
              "      <td>...</td>\n",
              "      <td>...</td>\n",
              "      <td>...</td>\n",
              "      <td>...</td>\n",
              "      <td>...</td>\n",
              "      <td>...</td>\n",
              "      <td>...</td>\n",
              "      <td>...</td>\n",
              "      <td>...</td>\n",
              "      <td>...</td>\n",
              "      <td>...</td>\n",
              "      <td>...</td>\n",
              "    </tr>\n",
              "    <tr>\n",
              "      <th>63283</th>\n",
              "      <td>fffad4f4828548d1b5583907f2e9906b</td>\n",
              "      <td>f19421c1d4aa40978ebb69ca19b0e20d</td>\n",
              "      <td>1.0</td>\n",
              "      <td>bogo</td>\n",
              "      <td>5</td>\n",
              "      <td>5</td>\n",
              "      <td>120</td>\n",
              "      <td>1</td>\n",
              "      <td>1</td>\n",
              "      <td>1</td>\n",
              "      <td>1</td>\n",
              "      <td>M</td>\n",
              "      <td>34.0</td>\n",
              "      <td>young_adult</td>\n",
              "      <td>34000.0</td>\n",
              "      <td>low</td>\n",
              "      <td>2017</td>\n",
              "      <td>1628.0</td>\n",
              "      <td>regular</td>\n",
              "    </tr>\n",
              "    <tr>\n",
              "      <th>63284</th>\n",
              "      <td>ffff82501cea40309d5fdd7edcca4a07</td>\n",
              "      <td>0b1e1539f2cc45b7b9fa7c272da2e1d7</td>\n",
              "      <td>1.0</td>\n",
              "      <td>discount</td>\n",
              "      <td>20</td>\n",
              "      <td>5</td>\n",
              "      <td>240</td>\n",
              "      <td>1</td>\n",
              "      <td>1</td>\n",
              "      <td>0</td>\n",
              "      <td>0</td>\n",
              "      <td>F</td>\n",
              "      <td>45.0</td>\n",
              "      <td>middle_age</td>\n",
              "      <td>62000.0</td>\n",
              "      <td>low</td>\n",
              "      <td>2016</td>\n",
              "      <td>1687.0</td>\n",
              "      <td>regular</td>\n",
              "    </tr>\n",
              "    <tr>\n",
              "      <th>63285</th>\n",
              "      <td>ffff82501cea40309d5fdd7edcca4a07</td>\n",
              "      <td>2906b810c7d4411798c6938adc9daaa5</td>\n",
              "      <td>1.0</td>\n",
              "      <td>discount</td>\n",
              "      <td>10</td>\n",
              "      <td>2</td>\n",
              "      <td>168</td>\n",
              "      <td>1</td>\n",
              "      <td>1</td>\n",
              "      <td>1</td>\n",
              "      <td>0</td>\n",
              "      <td>F</td>\n",
              "      <td>45.0</td>\n",
              "      <td>middle_age</td>\n",
              "      <td>62000.0</td>\n",
              "      <td>low</td>\n",
              "      <td>2016</td>\n",
              "      <td>1687.0</td>\n",
              "      <td>regular</td>\n",
              "    </tr>\n",
              "    <tr>\n",
              "      <th>63286</th>\n",
              "      <td>ffff82501cea40309d5fdd7edcca4a07</td>\n",
              "      <td>9b98b8c7a33c4b65b9aebfe6a799e6d9</td>\n",
              "      <td>1.0</td>\n",
              "      <td>bogo</td>\n",
              "      <td>5</td>\n",
              "      <td>5</td>\n",
              "      <td>168</td>\n",
              "      <td>1</td>\n",
              "      <td>1</td>\n",
              "      <td>1</td>\n",
              "      <td>0</td>\n",
              "      <td>F</td>\n",
              "      <td>45.0</td>\n",
              "      <td>middle_age</td>\n",
              "      <td>62000.0</td>\n",
              "      <td>low</td>\n",
              "      <td>2016</td>\n",
              "      <td>1687.0</td>\n",
              "      <td>regular</td>\n",
              "    </tr>\n",
              "    <tr>\n",
              "      <th>63287</th>\n",
              "      <td>ffff82501cea40309d5fdd7edcca4a07</td>\n",
              "      <td>fafdcd668e3743c1bb461111dcafc2a4</td>\n",
              "      <td>1.0</td>\n",
              "      <td>discount</td>\n",
              "      <td>10</td>\n",
              "      <td>2</td>\n",
              "      <td>240</td>\n",
              "      <td>1</td>\n",
              "      <td>1</td>\n",
              "      <td>1</td>\n",
              "      <td>1</td>\n",
              "      <td>F</td>\n",
              "      <td>45.0</td>\n",
              "      <td>middle_age</td>\n",
              "      <td>62000.0</td>\n",
              "      <td>low</td>\n",
              "      <td>2016</td>\n",
              "      <td>1687.0</td>\n",
              "      <td>regular</td>\n",
              "    </tr>\n",
              "  </tbody>\n",
              "</table>\n",
              "<p>63288 rows × 19 columns</p>\n",
              "</div>"
            ],
            "text/plain": [
              "                            customer_id  ... customer_type\n",
              "0      0009655768c64bdeb2e877511632db8f  ...       regular\n",
              "1      0009655768c64bdeb2e877511632db8f  ...       regular\n",
              "2      0009655768c64bdeb2e877511632db8f  ...       regular\n",
              "3      0009655768c64bdeb2e877511632db8f  ...       regular\n",
              "4      0009655768c64bdeb2e877511632db8f  ...       regular\n",
              "...                                 ...  ...           ...\n",
              "63283  fffad4f4828548d1b5583907f2e9906b  ...       regular\n",
              "63284  ffff82501cea40309d5fdd7edcca4a07  ...       regular\n",
              "63285  ffff82501cea40309d5fdd7edcca4a07  ...       regular\n",
              "63286  ffff82501cea40309d5fdd7edcca4a07  ...       regular\n",
              "63287  ffff82501cea40309d5fdd7edcca4a07  ...       regular\n",
              "\n",
              "[63288 rows x 19 columns]"
            ]
          },
          "metadata": {
            "tags": []
          },
          "execution_count": 41
        }
      ]
    },
    {
      "cell_type": "markdown",
      "metadata": {
        "id": "RFVFJang3mFG"
      },
      "source": [
        "\n",
        "We now have a single dataframe which includes information about the offer and information about the customer for every combination of offers and customers.\n",
        "We also determined whether an offer was successful - which was when an offer was completed and viewed by the customer."
      ]
    },
    {
      "cell_type": "code",
      "metadata": {
        "colab": {
          "base_uri": "https://localhost:8080/",
          "height": 241
        },
        "id": "_Sy4vpAO2zEG",
        "outputId": "ad127623-2749-4720-d03d-68ce780dace3"
      },
      "source": [
        "def change_offer_id(df_master):\n",
        "    \n",
        "    '''\n",
        "    Funtion to change the offer ids into a more readable form e.g offer 1, offer 2.\n",
        "    \n",
        "    Input - df_master which is the combined dataframe from all 3 datasets.\n",
        "    \n",
        "    Output - df_master with altered offer ids.\n",
        "    \n",
        "    '''\n",
        "    \n",
        "    unique_ids = list(df_master['offer_id'].unique())\n",
        "    \n",
        "    for i in range(len(unique_ids)):\n",
        "        \n",
        "        df_master['offer_id'] = df_master['offer_id'].apply(lambda x: i if x == unique_ids[i] else x)\n",
        "        \n",
        "            \n",
        "    return df_master\n",
        "            \n",
        "df_master = change_offer_id(df_master)\n",
        "df_master.head()"
      ],
      "execution_count": null,
      "outputs": [
        {
          "output_type": "execute_result",
          "data": {
            "text/html": [
              "<div>\n",
              "<style scoped>\n",
              "    .dataframe tbody tr th:only-of-type {\n",
              "        vertical-align: middle;\n",
              "    }\n",
              "\n",
              "    .dataframe tbody tr th {\n",
              "        vertical-align: top;\n",
              "    }\n",
              "\n",
              "    .dataframe thead th {\n",
              "        text-align: right;\n",
              "    }\n",
              "</style>\n",
              "<table border=\"1\" class=\"dataframe\">\n",
              "  <thead>\n",
              "    <tr style=\"text-align: right;\">\n",
              "      <th></th>\n",
              "      <th>customer_id</th>\n",
              "      <th>offer_id</th>\n",
              "      <th>successful offer</th>\n",
              "      <th>offer_type</th>\n",
              "      <th>difficulty</th>\n",
              "      <th>reward</th>\n",
              "      <th>duration_hours</th>\n",
              "      <th>web</th>\n",
              "      <th>email</th>\n",
              "      <th>mobile</th>\n",
              "      <th>social</th>\n",
              "      <th>gender</th>\n",
              "      <th>age</th>\n",
              "      <th>age_group</th>\n",
              "      <th>income</th>\n",
              "      <th>income_range</th>\n",
              "      <th>year_joined</th>\n",
              "      <th>days_as_member</th>\n",
              "      <th>customer_type</th>\n",
              "    </tr>\n",
              "  </thead>\n",
              "  <tbody>\n",
              "    <tr>\n",
              "      <th>0</th>\n",
              "      <td>0009655768c64bdeb2e877511632db8f</td>\n",
              "      <td>0</td>\n",
              "      <td>0.0</td>\n",
              "      <td>discount</td>\n",
              "      <td>10</td>\n",
              "      <td>2</td>\n",
              "      <td>168</td>\n",
              "      <td>1</td>\n",
              "      <td>1</td>\n",
              "      <td>1</td>\n",
              "      <td>0</td>\n",
              "      <td>M</td>\n",
              "      <td>33.0</td>\n",
              "      <td>young_adult</td>\n",
              "      <td>72000.0</td>\n",
              "      <td>mid</td>\n",
              "      <td>2017</td>\n",
              "      <td>1540.0</td>\n",
              "      <td>regular</td>\n",
              "    </tr>\n",
              "    <tr>\n",
              "      <th>1</th>\n",
              "      <td>0009655768c64bdeb2e877511632db8f</td>\n",
              "      <td>1</td>\n",
              "      <td>0.0</td>\n",
              "      <td>informational</td>\n",
              "      <td>0</td>\n",
              "      <td>0</td>\n",
              "      <td>96</td>\n",
              "      <td>1</td>\n",
              "      <td>1</td>\n",
              "      <td>1</td>\n",
              "      <td>0</td>\n",
              "      <td>M</td>\n",
              "      <td>33.0</td>\n",
              "      <td>young_adult</td>\n",
              "      <td>72000.0</td>\n",
              "      <td>mid</td>\n",
              "      <td>2017</td>\n",
              "      <td>1540.0</td>\n",
              "      <td>regular</td>\n",
              "    </tr>\n",
              "    <tr>\n",
              "      <th>2</th>\n",
              "      <td>0009655768c64bdeb2e877511632db8f</td>\n",
              "      <td>2</td>\n",
              "      <td>0.0</td>\n",
              "      <td>informational</td>\n",
              "      <td>0</td>\n",
              "      <td>0</td>\n",
              "      <td>72</td>\n",
              "      <td>0</td>\n",
              "      <td>1</td>\n",
              "      <td>1</td>\n",
              "      <td>1</td>\n",
              "      <td>M</td>\n",
              "      <td>33.0</td>\n",
              "      <td>young_adult</td>\n",
              "      <td>72000.0</td>\n",
              "      <td>mid</td>\n",
              "      <td>2017</td>\n",
              "      <td>1540.0</td>\n",
              "      <td>regular</td>\n",
              "    </tr>\n",
              "    <tr>\n",
              "      <th>3</th>\n",
              "      <td>0009655768c64bdeb2e877511632db8f</td>\n",
              "      <td>3</td>\n",
              "      <td>1.0</td>\n",
              "      <td>bogo</td>\n",
              "      <td>5</td>\n",
              "      <td>5</td>\n",
              "      <td>120</td>\n",
              "      <td>1</td>\n",
              "      <td>1</td>\n",
              "      <td>1</td>\n",
              "      <td>1</td>\n",
              "      <td>M</td>\n",
              "      <td>33.0</td>\n",
              "      <td>young_adult</td>\n",
              "      <td>72000.0</td>\n",
              "      <td>mid</td>\n",
              "      <td>2017</td>\n",
              "      <td>1540.0</td>\n",
              "      <td>regular</td>\n",
              "    </tr>\n",
              "    <tr>\n",
              "      <th>4</th>\n",
              "      <td>0009655768c64bdeb2e877511632db8f</td>\n",
              "      <td>4</td>\n",
              "      <td>1.0</td>\n",
              "      <td>discount</td>\n",
              "      <td>10</td>\n",
              "      <td>2</td>\n",
              "      <td>240</td>\n",
              "      <td>1</td>\n",
              "      <td>1</td>\n",
              "      <td>1</td>\n",
              "      <td>1</td>\n",
              "      <td>M</td>\n",
              "      <td>33.0</td>\n",
              "      <td>young_adult</td>\n",
              "      <td>72000.0</td>\n",
              "      <td>mid</td>\n",
              "      <td>2017</td>\n",
              "      <td>1540.0</td>\n",
              "      <td>regular</td>\n",
              "    </tr>\n",
              "  </tbody>\n",
              "</table>\n",
              "</div>"
            ],
            "text/plain": [
              "                        customer_id  offer_id  ...  days_as_member customer_type\n",
              "0  0009655768c64bdeb2e877511632db8f         0  ...          1540.0       regular\n",
              "1  0009655768c64bdeb2e877511632db8f         1  ...          1540.0       regular\n",
              "2  0009655768c64bdeb2e877511632db8f         2  ...          1540.0       regular\n",
              "3  0009655768c64bdeb2e877511632db8f         3  ...          1540.0       regular\n",
              "4  0009655768c64bdeb2e877511632db8f         4  ...          1540.0       regular\n",
              "\n",
              "[5 rows x 19 columns]"
            ]
          },
          "metadata": {
            "tags": []
          },
          "execution_count": 42
        }
      ]
    },
    {
      "cell_type": "markdown",
      "metadata": {
        "id": "RQgCJ1AyISQJ"
      },
      "source": [
        "## Data Analysis"
      ]
    },
    {
      "cell_type": "markdown",
      "metadata": {
        "id": "20leiVdIIYD1"
      },
      "source": [
        "**How many offers were successful for each offer_type?**\n",
        "\n",
        "---\n",
        "\n"
      ]
    },
    {
      "cell_type": "code",
      "metadata": {
        "colab": {
          "base_uri": "https://localhost:8080/"
        },
        "id": "WUMuZlbX2ng0",
        "outputId": "eb8a113e-b1d9-454b-f4b3-41b748f98aaa"
      },
      "source": [
        "df_master.columns"
      ],
      "execution_count": null,
      "outputs": [
        {
          "output_type": "execute_result",
          "data": {
            "text/plain": [
              "Index(['customer_id', 'offer_id', 'successful offer', 'offer_type',\n",
              "       'difficulty', 'reward', 'duration_hours', 'web', 'email', 'mobile',\n",
              "       'social', 'gender', 'age', 'age_group', 'income', 'income_range',\n",
              "       'year_joined', 'days_as_member', 'customer_type'],\n",
              "      dtype='object')"
            ]
          },
          "metadata": {
            "tags": []
          },
          "execution_count": 43
        }
      ]
    },
    {
      "cell_type": "code",
      "metadata": {
        "colab": {
          "base_uri": "https://localhost:8080/",
          "height": 173
        },
        "id": "1suB9OZGIMcE",
        "outputId": "cfaf2c77-8593-4962-96d3-5aa6e7323a55"
      },
      "source": [
        "# analyse how many data were received, viewed, and completed for each type\n",
        "df2 = df_master[['offer_type','successful offer']]\n",
        "df2 = df2.groupby('offer_type').sum()\n",
        "df2"
      ],
      "execution_count": null,
      "outputs": [
        {
          "output_type": "execute_result",
          "data": {
            "text/html": [
              "<div>\n",
              "<style scoped>\n",
              "    .dataframe tbody tr th:only-of-type {\n",
              "        vertical-align: middle;\n",
              "    }\n",
              "\n",
              "    .dataframe tbody tr th {\n",
              "        vertical-align: top;\n",
              "    }\n",
              "\n",
              "    .dataframe thead th {\n",
              "        text-align: right;\n",
              "    }\n",
              "</style>\n",
              "<table border=\"1\" class=\"dataframe\">\n",
              "  <thead>\n",
              "    <tr style=\"text-align: right;\">\n",
              "      <th></th>\n",
              "      <th>successful offer</th>\n",
              "    </tr>\n",
              "    <tr>\n",
              "      <th>offer_type</th>\n",
              "      <th></th>\n",
              "    </tr>\n",
              "  </thead>\n",
              "  <tbody>\n",
              "    <tr>\n",
              "      <th>bogo</th>\n",
              "      <td>11827.0</td>\n",
              "    </tr>\n",
              "    <tr>\n",
              "      <th>discount</th>\n",
              "      <td>12633.0</td>\n",
              "    </tr>\n",
              "    <tr>\n",
              "      <th>informational</th>\n",
              "      <td>0.0</td>\n",
              "    </tr>\n",
              "  </tbody>\n",
              "</table>\n",
              "</div>"
            ],
            "text/plain": [
              "               successful offer\n",
              "offer_type                     \n",
              "bogo                    11827.0\n",
              "discount                12633.0\n",
              "informational               0.0"
            ]
          },
          "metadata": {
            "tags": []
          },
          "execution_count": 44
        }
      ]
    },
    {
      "cell_type": "code",
      "metadata": {
        "colab": {
          "base_uri": "https://localhost:8080/",
          "height": 369
        },
        "id": "FZtDH7NDI1XL",
        "outputId": "3ad902b4-4a44-4593-fb47-259fb16b7bde"
      },
      "source": [
        "df2.plot(kind='bar')\n",
        "plt.title(\"Number of event per offer for Each offer_type\")\n",
        "plt.xlabel(\"offer type\")\n",
        "plt.ylabel(\"count\")"
      ],
      "execution_count": null,
      "outputs": [
        {
          "output_type": "execute_result",
          "data": {
            "text/plain": [
              "Text(0, 0.5, 'count')"
            ]
          },
          "metadata": {
            "tags": []
          },
          "execution_count": 45
        },
        {
          "output_type": "display_data",
          "data": {
            "image/png": "[encoded data removed]",
            "text/plain": [
              "<Figure size 432x288 with 1 Axes>"
            ]
          },
          "metadata": {
            "tags": [],
            "needs_background": "light"
          }
        }
      ]
    },
    {
      "cell_type": "markdown",
      "metadata": {
        "id": "3UTa0MbEGQQx"
      },
      "source": [
        "For informational offer there is no \"successful offer\" because there is no call to action.\n",
        "For other offer type. There is morse discount than bogo offer. "
      ]
    },
    {
      "cell_type": "code",
      "metadata": {
        "colab": {
          "base_uri": "https://localhost:8080/",
          "height": 142
        },
        "id": "pV2N_-YGJDYf",
        "outputId": "d9b95433-dc94-46f5-ccbd-61be06049846"
      },
      "source": [
        "#investigate how different genders dealt reacted to offers recieved\n",
        "df2 = df_master[['offer_type','gender','successful offer']]\n",
        "df2 = df2[(df2['offer_type']=='bogo') & (df2['gender'] !='O')]\n",
        "df2 = df2.drop('offer_type',axis=1)\n",
        "df2 = df2.groupby('gender').sum()\n",
        "df2"
      ],
      "execution_count": null,
      "outputs": [
        {
          "output_type": "execute_result",
          "data": {
            "text/html": [
              "<div>\n",
              "<style scoped>\n",
              "    .dataframe tbody tr th:only-of-type {\n",
              "        vertical-align: middle;\n",
              "    }\n",
              "\n",
              "    .dataframe tbody tr th {\n",
              "        vertical-align: top;\n",
              "    }\n",
              "\n",
              "    .dataframe thead th {\n",
              "        text-align: right;\n",
              "    }\n",
              "</style>\n",
              "<table border=\"1\" class=\"dataframe\">\n",
              "  <thead>\n",
              "    <tr style=\"text-align: right;\">\n",
              "      <th></th>\n",
              "      <th>successful offer</th>\n",
              "    </tr>\n",
              "    <tr>\n",
              "      <th>gender</th>\n",
              "      <th></th>\n",
              "    </tr>\n",
              "  </thead>\n",
              "  <tbody>\n",
              "    <tr>\n",
              "      <th>F</th>\n",
              "      <td>5605.0</td>\n",
              "    </tr>\n",
              "    <tr>\n",
              "      <th>M</th>\n",
              "      <td>5693.0</td>\n",
              "    </tr>\n",
              "  </tbody>\n",
              "</table>\n",
              "</div>"
            ],
            "text/plain": [
              "        successful offer\n",
              "gender                  \n",
              "F                 5605.0\n",
              "M                 5693.0"
            ]
          },
          "metadata": {
            "tags": []
          },
          "execution_count": 46
        }
      ]
    },
    {
      "cell_type": "code",
      "metadata": {
        "colab": {
          "base_uri": "https://localhost:8080/",
          "height": 333
        },
        "id": "t61m5MofJJiC",
        "outputId": "1a191f5c-a450-49ad-941a-fd2e9c12def9"
      },
      "source": [
        "df2.plot(kind='bar', fontsize=14)\n",
        "plt.title(\"How different genders responded to bogo discount\")\n",
        "plt.xlabel(\"Gender\")\n",
        "plt.ylabel(\"count\")"
      ],
      "execution_count": 84,
      "outputs": [
        {
          "output_type": "execute_result",
          "data": {
            "text/plain": [
              "Text(0, 0.5, 'count')"
            ]
          },
          "metadata": {
            "tags": []
          },
          "execution_count": 84
        },
        {
          "output_type": "display_data",
          "data": {
            "image/png": "[encoded data removed]",
            "text/plain": [
              "<Figure size 432x288 with 1 Axes>"
            ]
          },
          "metadata": {
            "tags": [],
            "needs_background": "light"
          }
        }
      ]
    },
    {
      "cell_type": "code",
      "metadata": {
        "colab": {
          "base_uri": "https://localhost:8080/",
          "height": 173
        },
        "id": "9SoGn0iuJSxW",
        "outputId": "7b260153-be7f-40f6-85a5-e84afa775c49"
      },
      "source": [
        "#explore how clients reacted to differnt offers - the details are based on income range\n",
        "df2 = df_master[['offer_type','income_range','successful offer']]\n",
        "df2 = df2[df2['offer_type'] == 'bogo']\n",
        "df2 = df2.drop(['offer_type'],axis=1)\n",
        "df2 = df2.groupby(['income_range']).sum()\n",
        "df2"
      ],
      "execution_count": null,
      "outputs": [
        {
          "output_type": "execute_result",
          "data": {
            "text/html": [
              "<div>\n",
              "<style scoped>\n",
              "    .dataframe tbody tr th:only-of-type {\n",
              "        vertical-align: middle;\n",
              "    }\n",
              "\n",
              "    .dataframe tbody tr th {\n",
              "        vertical-align: top;\n",
              "    }\n",
              "\n",
              "    .dataframe thead th {\n",
              "        text-align: right;\n",
              "    }\n",
              "</style>\n",
              "<table border=\"1\" class=\"dataframe\">\n",
              "  <thead>\n",
              "    <tr style=\"text-align: right;\">\n",
              "      <th></th>\n",
              "      <th>successful offer</th>\n",
              "    </tr>\n",
              "    <tr>\n",
              "      <th>income_range</th>\n",
              "      <th></th>\n",
              "    </tr>\n",
              "  </thead>\n",
              "  <tbody>\n",
              "    <tr>\n",
              "      <th>high</th>\n",
              "      <td>1075.0</td>\n",
              "    </tr>\n",
              "    <tr>\n",
              "      <th>low</th>\n",
              "      <td>4898.0</td>\n",
              "    </tr>\n",
              "    <tr>\n",
              "      <th>mid</th>\n",
              "      <td>5523.0</td>\n",
              "    </tr>\n",
              "  </tbody>\n",
              "</table>\n",
              "</div>"
            ],
            "text/plain": [
              "              successful offer\n",
              "income_range                  \n",
              "high                    1075.0\n",
              "low                     4898.0\n",
              "mid                     5523.0"
            ]
          },
          "metadata": {
            "tags": []
          },
          "execution_count": 48
        }
      ]
    },
    {
      "cell_type": "code",
      "metadata": {
        "colab": {
          "base_uri": "https://localhost:8080/",
          "height": 333
        },
        "id": "tnZqOHy2Je8a",
        "outputId": "8999ec17-32ee-4163-a94c-fc36c1c89611"
      },
      "source": [
        "df2.plot(kind='bar', fontsize=14)\n",
        "plt.title(\"How Client responded to bogo offers\")\n",
        "plt.xlabel(\"income range and customer type\")\n",
        "plt.ylabel(\"count\")"
      ],
      "execution_count": 85,
      "outputs": [
        {
          "output_type": "execute_result",
          "data": {
            "text/plain": [
              "Text(0, 0.5, 'count')"
            ]
          },
          "metadata": {
            "tags": []
          },
          "execution_count": 85
        },
        {
          "output_type": "display_data",
          "data": {
            "image/png": "[encoded data removed]",
            "text/plain": [
              "<Figure size 432x288 with 1 Axes>"
            ]
          },
          "metadata": {
            "tags": [],
            "needs_background": "light"
          }
        }
      ]
    },
    {
      "cell_type": "code",
      "metadata": {
        "colab": {
          "base_uri": "https://localhost:8080/",
          "height": 173
        },
        "id": "ZVFoCCWjJ2y3",
        "outputId": "6538ea66-8497-4456-bb44-6c16823c84dc"
      },
      "source": [
        "#explore how clients reacted to differnt offers - the details are based on income range\n",
        "df2 = df_master[['offer_type','income_range','successful offer']]\n",
        "df2 = df2[df2['offer_type'] == 'discount']\n",
        "df2 = df2.drop(['offer_type'],axis=1)\n",
        "df2 = df2.groupby(['income_range']).sum()\n",
        "df2"
      ],
      "execution_count": null,
      "outputs": [
        {
          "output_type": "execute_result",
          "data": {
            "text/html": [
              "<div>\n",
              "<style scoped>\n",
              "    .dataframe tbody tr th:only-of-type {\n",
              "        vertical-align: middle;\n",
              "    }\n",
              "\n",
              "    .dataframe tbody tr th {\n",
              "        vertical-align: top;\n",
              "    }\n",
              "\n",
              "    .dataframe thead th {\n",
              "        text-align: right;\n",
              "    }\n",
              "</style>\n",
              "<table border=\"1\" class=\"dataframe\">\n",
              "  <thead>\n",
              "    <tr style=\"text-align: right;\">\n",
              "      <th></th>\n",
              "      <th>successful offer</th>\n",
              "    </tr>\n",
              "    <tr>\n",
              "      <th>income_range</th>\n",
              "      <th></th>\n",
              "    </tr>\n",
              "  </thead>\n",
              "  <tbody>\n",
              "    <tr>\n",
              "      <th>high</th>\n",
              "      <td>915.0</td>\n",
              "    </tr>\n",
              "    <tr>\n",
              "      <th>low</th>\n",
              "      <td>5490.0</td>\n",
              "    </tr>\n",
              "    <tr>\n",
              "      <th>mid</th>\n",
              "      <td>5598.0</td>\n",
              "    </tr>\n",
              "  </tbody>\n",
              "</table>\n",
              "</div>"
            ],
            "text/plain": [
              "              successful offer\n",
              "income_range                  \n",
              "high                     915.0\n",
              "low                     5490.0\n",
              "mid                     5598.0"
            ]
          },
          "metadata": {
            "tags": []
          },
          "execution_count": 50
        }
      ]
    },
    {
      "cell_type": "code",
      "metadata": {
        "colab": {
          "base_uri": "https://localhost:8080/",
          "height": 324
        },
        "id": "lvlcbXf05qQt",
        "outputId": "5ba03681-d85c-44ee-abd5-a403b2b5b2ac"
      },
      "source": [
        "df2.plot(kind='bar')\n",
        "plt.title(\"How clients responded to discount offers\")\n",
        "plt.xlabel(\"income range and customer type\")\n",
        "plt.ylabel(\"count\")"
      ],
      "execution_count": null,
      "outputs": [
        {
          "output_type": "execute_result",
          "data": {
            "text/plain": [
              "Text(0, 0.5, 'count')"
            ]
          },
          "metadata": {
            "tags": []
          },
          "execution_count": 51
        },
        {
          "output_type": "display_data",
          "data": {
            "image/png": "[encoded data removed]",
            "text/plain": [
              "<Figure size 432x288 with 1 Axes>"
            ]
          },
          "metadata": {
            "tags": [],
            "needs_background": "light"
          }
        }
      ]
    },
    {
      "cell_type": "code",
      "metadata": {
        "colab": {
          "base_uri": "https://localhost:8080/",
          "height": 298
        },
        "id": "w3o01-rA_0LN",
        "outputId": "d75b1a8c-b523-4343-e497-b86035b1af25"
      },
      "source": [
        "sns.countplot(x='offer_id',hue='gender',data=df_master,palette='PuBu');\n",
        "plt.title('Count of Offer Type by Gender')\n",
        "\n",
        "plt.xticks(rotation=45);"
      ],
      "execution_count": null,
      "outputs": [
        {
          "output_type": "display_data",
          "data": {
            "image/png": "[encoded data removed]",
            "text/plain": [
              "<Figure size 432x288 with 1 Axes>"
            ]
          },
          "metadata": {
            "tags": [],
            "needs_background": "light"
          }
        }
      ]
    },
    {
      "cell_type": "code",
      "metadata": {
        "colab": {
          "base_uri": "https://localhost:8080/",
          "height": 298
        },
        "id": "7wMk3EZQAf4o",
        "outputId": "42b218db-714e-48c6-c0e3-c4a0e7893b87"
      },
      "source": [
        "sns.countplot(x='offer_id',hue='successful offer',data=df_master,palette='Blues');\n",
        "plt.legend(['Unsuccessful','Successful'],frameon=False)\n",
        "plt.title('Count of Offer Type')\n",
        "\n",
        "plt.xticks(rotation=45);"
      ],
      "execution_count": null,
      "outputs": [
        {
          "output_type": "display_data",
          "data": {
            "image/png": "[encoded data removed]",
            "text/plain": [
              "<Figure size 432x288 with 1 Axes>"
            ]
          },
          "metadata": {
            "tags": [],
            "needs_background": "light"
          }
        }
      ]
    },
    {
      "cell_type": "markdown",
      "metadata": {
        "id": "4vVMAlSZKN-L"
      },
      "source": [
        "##Data Modelling:"
      ]
    },
    {
      "cell_type": "markdown",
      "metadata": {
        "id": "9fXMsXDmKVRa"
      },
      "source": [
        "I will leave only the fields that I believe are relevant to the predication. I will also have to convert some of the fields to be in number format. \n",
        "\n",
        "Based on the details we have the predicted fields should be viewed and completed to tell me wether an offer would be viewed and completed or not. "
      ]
    },
    {
      "cell_type": "code",
      "metadata": {
        "colab": {
          "base_uri": "https://localhost:8080/",
          "height": 258
        },
        "id": "qHe__7bHKR7b",
        "outputId": "17de1410-d665-4584-b56e-a2cb05a9c947"
      },
      "source": [
        "df_master_backup = df_master.copy()\n",
        "print(df_master.shape)\n",
        "df_master.head()"
      ],
      "execution_count": null,
      "outputs": [
        {
          "output_type": "stream",
          "text": [
            "(63288, 19)\n"
          ],
          "name": "stdout"
        },
        {
          "output_type": "execute_result",
          "data": {
            "text/html": [
              "<div>\n",
              "<style scoped>\n",
              "    .dataframe tbody tr th:only-of-type {\n",
              "        vertical-align: middle;\n",
              "    }\n",
              "\n",
              "    .dataframe tbody tr th {\n",
              "        vertical-align: top;\n",
              "    }\n",
              "\n",
              "    .dataframe thead th {\n",
              "        text-align: right;\n",
              "    }\n",
              "</style>\n",
              "<table border=\"1\" class=\"dataframe\">\n",
              "  <thead>\n",
              "    <tr style=\"text-align: right;\">\n",
              "      <th></th>\n",
              "      <th>customer_id</th>\n",
              "      <th>offer_id</th>\n",
              "      <th>successful offer</th>\n",
              "      <th>offer_type</th>\n",
              "      <th>difficulty</th>\n",
              "      <th>reward</th>\n",
              "      <th>duration_hours</th>\n",
              "      <th>web</th>\n",
              "      <th>email</th>\n",
              "      <th>mobile</th>\n",
              "      <th>social</th>\n",
              "      <th>gender</th>\n",
              "      <th>age</th>\n",
              "      <th>age_group</th>\n",
              "      <th>income</th>\n",
              "      <th>income_range</th>\n",
              "      <th>year_joined</th>\n",
              "      <th>days_as_member</th>\n",
              "      <th>customer_type</th>\n",
              "    </tr>\n",
              "  </thead>\n",
              "  <tbody>\n",
              "    <tr>\n",
              "      <th>0</th>\n",
              "      <td>0009655768c64bdeb2e877511632db8f</td>\n",
              "      <td>0</td>\n",
              "      <td>0.0</td>\n",
              "      <td>discount</td>\n",
              "      <td>10</td>\n",
              "      <td>2</td>\n",
              "      <td>168</td>\n",
              "      <td>1</td>\n",
              "      <td>1</td>\n",
              "      <td>1</td>\n",
              "      <td>0</td>\n",
              "      <td>M</td>\n",
              "      <td>33.0</td>\n",
              "      <td>young_adult</td>\n",
              "      <td>72000.0</td>\n",
              "      <td>mid</td>\n",
              "      <td>2017</td>\n",
              "      <td>1540.0</td>\n",
              "      <td>regular</td>\n",
              "    </tr>\n",
              "    <tr>\n",
              "      <th>1</th>\n",
              "      <td>0009655768c64bdeb2e877511632db8f</td>\n",
              "      <td>1</td>\n",
              "      <td>0.0</td>\n",
              "      <td>informational</td>\n",
              "      <td>0</td>\n",
              "      <td>0</td>\n",
              "      <td>96</td>\n",
              "      <td>1</td>\n",
              "      <td>1</td>\n",
              "      <td>1</td>\n",
              "      <td>0</td>\n",
              "      <td>M</td>\n",
              "      <td>33.0</td>\n",
              "      <td>young_adult</td>\n",
              "      <td>72000.0</td>\n",
              "      <td>mid</td>\n",
              "      <td>2017</td>\n",
              "      <td>1540.0</td>\n",
              "      <td>regular</td>\n",
              "    </tr>\n",
              "    <tr>\n",
              "      <th>2</th>\n",
              "      <td>0009655768c64bdeb2e877511632db8f</td>\n",
              "      <td>2</td>\n",
              "      <td>0.0</td>\n",
              "      <td>informational</td>\n",
              "      <td>0</td>\n",
              "      <td>0</td>\n",
              "      <td>72</td>\n",
              "      <td>0</td>\n",
              "      <td>1</td>\n",
              "      <td>1</td>\n",
              "      <td>1</td>\n",
              "      <td>M</td>\n",
              "      <td>33.0</td>\n",
              "      <td>young_adult</td>\n",
              "      <td>72000.0</td>\n",
              "      <td>mid</td>\n",
              "      <td>2017</td>\n",
              "      <td>1540.0</td>\n",
              "      <td>regular</td>\n",
              "    </tr>\n",
              "    <tr>\n",
              "      <th>3</th>\n",
              "      <td>0009655768c64bdeb2e877511632db8f</td>\n",
              "      <td>3</td>\n",
              "      <td>1.0</td>\n",
              "      <td>bogo</td>\n",
              "      <td>5</td>\n",
              "      <td>5</td>\n",
              "      <td>120</td>\n",
              "      <td>1</td>\n",
              "      <td>1</td>\n",
              "      <td>1</td>\n",
              "      <td>1</td>\n",
              "      <td>M</td>\n",
              "      <td>33.0</td>\n",
              "      <td>young_adult</td>\n",
              "      <td>72000.0</td>\n",
              "      <td>mid</td>\n",
              "      <td>2017</td>\n",
              "      <td>1540.0</td>\n",
              "      <td>regular</td>\n",
              "    </tr>\n",
              "    <tr>\n",
              "      <th>4</th>\n",
              "      <td>0009655768c64bdeb2e877511632db8f</td>\n",
              "      <td>4</td>\n",
              "      <td>1.0</td>\n",
              "      <td>discount</td>\n",
              "      <td>10</td>\n",
              "      <td>2</td>\n",
              "      <td>240</td>\n",
              "      <td>1</td>\n",
              "      <td>1</td>\n",
              "      <td>1</td>\n",
              "      <td>1</td>\n",
              "      <td>M</td>\n",
              "      <td>33.0</td>\n",
              "      <td>young_adult</td>\n",
              "      <td>72000.0</td>\n",
              "      <td>mid</td>\n",
              "      <td>2017</td>\n",
              "      <td>1540.0</td>\n",
              "      <td>regular</td>\n",
              "    </tr>\n",
              "  </tbody>\n",
              "</table>\n",
              "</div>"
            ],
            "text/plain": [
              "                        customer_id  offer_id  ...  days_as_member customer_type\n",
              "0  0009655768c64bdeb2e877511632db8f         0  ...          1540.0       regular\n",
              "1  0009655768c64bdeb2e877511632db8f         1  ...          1540.0       regular\n",
              "2  0009655768c64bdeb2e877511632db8f         2  ...          1540.0       regular\n",
              "3  0009655768c64bdeb2e877511632db8f         3  ...          1540.0       regular\n",
              "4  0009655768c64bdeb2e877511632db8f         4  ...          1540.0       regular\n",
              "\n",
              "[5 rows x 19 columns]"
            ]
          },
          "metadata": {
            "tags": []
          },
          "execution_count": 54
        }
      ]
    },
    {
      "cell_type": "markdown",
      "metadata": {
        "id": "F44REtXkB4bl"
      },
      "source": [
        "**Predict whether a customer offer combination will be successful**"
      ]
    },
    {
      "cell_type": "markdown",
      "metadata": {
        "id": "mJbO75XvB7Eg"
      },
      "source": [
        "Here we are now going to predict whether a user will complete an offer based on variables from the user and on the offer.\n",
        "I will be using Logistic Regression and Adaboost to try and predict whether a customer receiving an offer will be successful.\n",
        "To evaluate these models i will be using the model accuracy, the f1 score. As i care equally about how the model classifies both classes i will place more of a preference on the accuracy. However, if i cared more about incorrectly classified predictions i would have chosen to focus on the f1 score. To visualize the performance of the models i will use Confusion matrixs."
      ]
    },
    {
      "cell_type": "code",
      "metadata": {
        "colab": {
          "base_uri": "https://localhost:8080/",
          "height": 204
        },
        "id": "UXXFIONKKfcl",
        "outputId": "cc6e0158-8ef5-47b0-df6e-4e6f38f161f5"
      },
      "source": [
        "#drope some fields that I will not use in the modelling\n",
        "df_master.drop(['age','income','customer_id','days_as_member','year_joined'],axis=1,inplace=True)\n",
        "\n",
        "#convert gender to numbers M - 1 F -2 and O - 3\n",
        "df_master['gender'] = df_master['gender'].apply(lambda x: 1 if x == 'M' else (2 if x == 'F' else 3))\n",
        "\n",
        "#convert age groups to number format young_adult=1 middle_age=2 and old=3\n",
        "df_master['age_group'] = df_master['age_group'].apply(lambda x: 1 if x == 'young_adult' \n",
        "                                                      else (2 if x == 'middle_age' else 3))\n",
        "#convert income range to number format low = 1 mid=2 and high =3\n",
        "df_master['income_range'] = df_master['income_range'].apply(lambda x: 1 if x == 'low' \n",
        "                                                            else (2 if x == 'mid' else 3))\n",
        "#convert customer type to number format new = 1 regular =2 loyal = 3\n",
        "df_master['customer_type'] = df_master['customer_type'].apply(lambda x: 1 if x == 'new' \n",
        "                                                              else (2 if x == 'regular' else 3))\n",
        "#conver offer type to number format bogo = 1 discount = 2 informational =3\n",
        "df_master['offer_type'] = df_master['offer_type'].apply(lambda x: 1 if x == 'bogo' \n",
        "                                                           else (2 if x == 'discount' else 3))\n",
        "#scale data\n",
        "scaler =StandardScaler()\n",
        "features = ['offer_id','offer_type','income_range','customer_type','duration_hours', 'reward', 'difficulty']\n",
        "df_master[features] = scaler.fit_transform(df_master[features])\n",
        "df_master.head()"
      ],
      "execution_count": null,
      "outputs": [
        {
          "output_type": "execute_result",
          "data": {
            "text/html": [
              "<div>\n",
              "<style scoped>\n",
              "    .dataframe tbody tr th:only-of-type {\n",
              "        vertical-align: middle;\n",
              "    }\n",
              "\n",
              "    .dataframe tbody tr th {\n",
              "        vertical-align: top;\n",
              "    }\n",
              "\n",
              "    .dataframe thead th {\n",
              "        text-align: right;\n",
              "    }\n",
              "</style>\n",
              "<table border=\"1\" class=\"dataframe\">\n",
              "  <thead>\n",
              "    <tr style=\"text-align: right;\">\n",
              "      <th></th>\n",
              "      <th>offer_id</th>\n",
              "      <th>successful offer</th>\n",
              "      <th>offer_type</th>\n",
              "      <th>difficulty</th>\n",
              "      <th>reward</th>\n",
              "      <th>duration_hours</th>\n",
              "      <th>web</th>\n",
              "      <th>email</th>\n",
              "      <th>mobile</th>\n",
              "      <th>social</th>\n",
              "      <th>gender</th>\n",
              "      <th>age_group</th>\n",
              "      <th>income_range</th>\n",
              "      <th>customer_type</th>\n",
              "    </tr>\n",
              "  </thead>\n",
              "  <tbody>\n",
              "    <tr>\n",
              "      <th>0</th>\n",
              "      <td>-1.569960</td>\n",
              "      <td>0.0</td>\n",
              "      <td>0.267545</td>\n",
              "      <td>0.412967</td>\n",
              "      <td>-0.648341</td>\n",
              "      <td>0.224720</td>\n",
              "      <td>1</td>\n",
              "      <td>1</td>\n",
              "      <td>1</td>\n",
              "      <td>0</td>\n",
              "      <td>1</td>\n",
              "      <td>1</td>\n",
              "      <td>0.341082</td>\n",
              "      <td>-0.433144</td>\n",
              "    </tr>\n",
              "    <tr>\n",
              "      <th>1</th>\n",
              "      <td>-1.221813</td>\n",
              "      <td>0.0</td>\n",
              "      <td>1.603960</td>\n",
              "      <td>-1.391620</td>\n",
              "      <td>-1.236077</td>\n",
              "      <td>-1.136721</td>\n",
              "      <td>1</td>\n",
              "      <td>1</td>\n",
              "      <td>1</td>\n",
              "      <td>0</td>\n",
              "      <td>1</td>\n",
              "      <td>1</td>\n",
              "      <td>0.341082</td>\n",
              "      <td>-0.433144</td>\n",
              "    </tr>\n",
              "    <tr>\n",
              "      <th>2</th>\n",
              "      <td>-0.873667</td>\n",
              "      <td>0.0</td>\n",
              "      <td>1.603960</td>\n",
              "      <td>-1.391620</td>\n",
              "      <td>-1.236077</td>\n",
              "      <td>-1.590535</td>\n",
              "      <td>0</td>\n",
              "      <td>1</td>\n",
              "      <td>1</td>\n",
              "      <td>1</td>\n",
              "      <td>1</td>\n",
              "      <td>1</td>\n",
              "      <td>0.341082</td>\n",
              "      <td>-0.433144</td>\n",
              "    </tr>\n",
              "    <tr>\n",
              "      <th>3</th>\n",
              "      <td>-0.525520</td>\n",
              "      <td>1.0</td>\n",
              "      <td>-1.068870</td>\n",
              "      <td>-0.489327</td>\n",
              "      <td>0.233263</td>\n",
              "      <td>-0.682908</td>\n",
              "      <td>1</td>\n",
              "      <td>1</td>\n",
              "      <td>1</td>\n",
              "      <td>1</td>\n",
              "      <td>1</td>\n",
              "      <td>1</td>\n",
              "      <td>0.341082</td>\n",
              "      <td>-0.433144</td>\n",
              "    </tr>\n",
              "    <tr>\n",
              "      <th>4</th>\n",
              "      <td>-0.177374</td>\n",
              "      <td>1.0</td>\n",
              "      <td>0.267545</td>\n",
              "      <td>0.412967</td>\n",
              "      <td>-0.648341</td>\n",
              "      <td>1.586161</td>\n",
              "      <td>1</td>\n",
              "      <td>1</td>\n",
              "      <td>1</td>\n",
              "      <td>1</td>\n",
              "      <td>1</td>\n",
              "      <td>1</td>\n",
              "      <td>0.341082</td>\n",
              "      <td>-0.433144</td>\n",
              "    </tr>\n",
              "  </tbody>\n",
              "</table>\n",
              "</div>"
            ],
            "text/plain": [
              "   offer_id  successful offer  ...  income_range  customer_type\n",
              "0 -1.569960               0.0  ...      0.341082      -0.433144\n",
              "1 -1.221813               0.0  ...      0.341082      -0.433144\n",
              "2 -0.873667               0.0  ...      0.341082      -0.433144\n",
              "3 -0.525520               1.0  ...      0.341082      -0.433144\n",
              "4 -0.177374               1.0  ...      0.341082      -0.433144\n",
              "\n",
              "[5 rows x 14 columns]"
            ]
          },
          "metadata": {
            "tags": []
          },
          "execution_count": 55
        }
      ]
    },
    {
      "cell_type": "code",
      "metadata": {
        "colab": {
          "base_uri": "https://localhost:8080/",
          "height": 616
        },
        "id": "2_XpoULDCosL",
        "outputId": "71649be1-aaa7-40da-e9f5-7baaaf0853cd"
      },
      "source": [
        "plt.figure(figsize=(10,10))\n",
        "sns.heatmap(df_master.corr(),square=True, cmap='cubehelix');"
      ],
      "execution_count": null,
      "outputs": [
        {
          "output_type": "display_data",
          "data": {
            "image/png": "[encoded data removed]",
            "text/plain": [
              "<Figure size 720x720 with 2 Axes>"
            ]
          },
          "metadata": {
            "tags": [],
            "needs_background": "light"
          }
        }
      ]
    },
    {
      "cell_type": "code",
      "metadata": {
        "id": "bZM91bWbDQuI"
      },
      "source": [
        "#drope email field\n",
        "df_master.drop(['email'],axis=1,inplace=True)"
      ],
      "execution_count": null,
      "outputs": []
    },
    {
      "cell_type": "code",
      "metadata": {
        "colab": {
          "base_uri": "https://localhost:8080/"
        },
        "id": "TtPd5kYBDXld",
        "outputId": "b595ac3a-f0a9-4f79-d3a8-2ba22fb741b2"
      },
      "source": [
        "df_master.columns"
      ],
      "execution_count": null,
      "outputs": [
        {
          "output_type": "execute_result",
          "data": {
            "text/plain": [
              "Index(['offer_id', 'successful offer', 'offer_type', 'difficulty', 'reward',\n",
              "       'duration_hours', 'web', 'mobile', 'social', 'gender', 'age_group',\n",
              "       'income_range', 'customer_type'],\n",
              "      dtype='object')"
            ]
          },
          "metadata": {
            "tags": []
          },
          "execution_count": 58
        }
      ]
    },
    {
      "cell_type": "code",
      "metadata": {
        "colab": {
          "base_uri": "https://localhost:8080/",
          "height": 279
        },
        "id": "hmHuAfz7CGJl",
        "outputId": "ddf4ac54-275e-4fdb-bc7d-ff2846ea704c"
      },
      "source": [
        "sns.countplot(df_master['successful offer']);"
      ],
      "execution_count": null,
      "outputs": [
        {
          "output_type": "display_data",
          "data": {
            "image/png": "[encoded data removed]",
            "text/plain": [
              "<Figure size 432x288 with 1 Axes>"
            ]
          },
          "metadata": {
            "tags": [],
            "needs_background": "light"
          }
        }
      ]
    },
    {
      "cell_type": "code",
      "metadata": {
        "id": "iQJ1xiioLglw"
      },
      "source": [
        "#prepare the x values for the prediction model\n",
        "x = df_master.drop(['successful offer'],axis=1)\n",
        "#defind the values to be predicted\n",
        "y = df_master[['successful offer']]\n",
        "#split the values to training and testing \n",
        "x_train,x_test,y_train,y_test = train_test_split(x,y,random_state=42)"
      ],
      "execution_count": null,
      "outputs": []
    },
    {
      "cell_type": "markdown",
      "metadata": {
        "id": "2FSTO16dDvhi"
      },
      "source": [
        "#logistic regression"
      ]
    },
    {
      "cell_type": "code",
      "metadata": {
        "id": "85eXfF8LDrNt"
      },
      "source": [
        "model = LogisticRegression(solver='liblinear',random_state=42)"
      ],
      "execution_count": null,
      "outputs": []
    },
    {
      "cell_type": "code",
      "metadata": {
        "colab": {
          "base_uri": "https://localhost:8080/"
        },
        "id": "Hg-soddnDzmQ",
        "outputId": "88a46f56-76ec-4928-e9b1-9d44e4173792"
      },
      "source": [
        "model.fit(x_train,y_train)"
      ],
      "execution_count": null,
      "outputs": [
        {
          "output_type": "execute_result",
          "data": {
            "text/plain": [
              "LogisticRegression(C=1.0, class_weight=None, dual=False, fit_intercept=True,\n",
              "                   intercept_scaling=1, l1_ratio=None, max_iter=100,\n",
              "                   multi_class='auto', n_jobs=None, penalty='l2',\n",
              "                   random_state=42, solver='liblinear', tol=0.0001, verbose=0,\n",
              "                   warm_start=False)"
            ]
          },
          "metadata": {
            "tags": []
          },
          "execution_count": 62
        }
      ]
    },
    {
      "cell_type": "code",
      "metadata": {
        "id": "J0jGs0hCD3kq"
      },
      "source": [
        "log_pred = model.predict(x_test)"
      ],
      "execution_count": null,
      "outputs": []
    },
    {
      "cell_type": "code",
      "metadata": {
        "colab": {
          "base_uri": "https://localhost:8080/"
        },
        "id": "GOiaZViJD_DN",
        "outputId": "6fcc8e10-d697-4554-8ff8-8c4b74d13ed8"
      },
      "source": [
        "log_accuracy = accuracy_score(y_test,log_pred)\n",
        "\n",
        "print(\"Logistic Regression Accuracy: %.2f\" % accuracy_score(y_test, log_pred))"
      ],
      "execution_count": null,
      "outputs": [
        {
          "output_type": "stream",
          "text": [
            "Logistic Regression Accuracy: 0.72\n"
          ],
          "name": "stdout"
        }
      ]
    },
    {
      "cell_type": "code",
      "metadata": {
        "colab": {
          "base_uri": "https://localhost:8080/",
          "height": 295
        },
        "id": "6YtfMhmMEF8x",
        "outputId": "0da6525a-3715-4056-f696-4aad2fb7b91a"
      },
      "source": [
        "sns.heatmap(confusion_matrix(y_test,log_pred),annot=True,fmt='d')\n",
        "plt.title('Logisitic Regression Confusion Matrix')\n",
        "plt.ylabel(\"Actual\")\n",
        "plt.xlabel(\"Predicted\");"
      ],
      "execution_count": null,
      "outputs": [
        {
          "output_type": "display_data",
          "data": {
            "image/png": "[encoded data removed]",
            "text/plain": [
              "<Figure size 432x288 with 2 Axes>"
            ]
          },
          "metadata": {
            "tags": [],
            "needs_background": "light"
          }
        }
      ]
    },
    {
      "cell_type": "code",
      "metadata": {
        "colab": {
          "base_uri": "https://localhost:8080/"
        },
        "id": "faCIxIHzEcEF",
        "outputId": "31b32e3d-9484-4fb2-ae61-ae683a0eb533"
      },
      "source": [
        "log_f1_score = f1_score(y_test,log_pred)\n",
        "\n",
        "print('Logisitic Regression F1 Score: %.3f' % log_f1_score)"
      ],
      "execution_count": null,
      "outputs": [
        {
          "output_type": "stream",
          "text": [
            "Logisitic Regression F1 Score: 0.604\n"
          ],
          "name": "stdout"
        }
      ]
    },
    {
      "cell_type": "code",
      "metadata": {
        "id": "a_TIZJnmE532"
      },
      "source": [
        "parameters = {'penalty': ['l1','l2'], 'C': [1,10,100,1000]}\n",
        "\n",
        "grid_log = GridSearchCV(LogisticRegression(), parameters, verbose=3, n_jobs=-1,cv=3)"
      ],
      "execution_count": null,
      "outputs": []
    },
    {
      "cell_type": "code",
      "metadata": {
        "colab": {
          "base_uri": "https://localhost:8080/"
        },
        "id": "fhL4ImOPE9yx",
        "outputId": "18ea3380-1715-47f4-9d18-91985b9eed2d"
      },
      "source": [
        "grid_log.fit(x_train,y_train)"
      ],
      "execution_count": null,
      "outputs": [
        {
          "output_type": "stream",
          "text": [
            "Fitting 3 folds for each of 8 candidates, totalling 24 fits\n"
          ],
          "name": "stdout"
        },
        {
          "output_type": "stream",
          "text": [
            "[Parallel(n_jobs=-1)]: Using backend LokyBackend with 2 concurrent workers.\n",
            "[Parallel(n_jobs=-1)]: Done  24 out of  24 | elapsed:    4.4s finished\n"
          ],
          "name": "stderr"
        },
        {
          "output_type": "execute_result",
          "data": {
            "text/plain": [
              "GridSearchCV(cv=3, error_score=nan,\n",
              "             estimator=LogisticRegression(C=1.0, class_weight=None, dual=False,\n",
              "                                          fit_intercept=True,\n",
              "                                          intercept_scaling=1, l1_ratio=None,\n",
              "                                          max_iter=100, multi_class='auto',\n",
              "                                          n_jobs=None, penalty='l2',\n",
              "                                          random_state=None, solver='lbfgs',\n",
              "                                          tol=0.0001, verbose=0,\n",
              "                                          warm_start=False),\n",
              "             iid='deprecated', n_jobs=-1,\n",
              "             param_grid={'C': [1, 10, 100, 1000], 'penalty': ['l1', 'l2']},\n",
              "             pre_dispatch='2*n_jobs', refit=True, return_train_score=False,\n",
              "             scoring=None, verbose=3)"
            ]
          },
          "metadata": {
            "tags": []
          },
          "execution_count": 68
        }
      ]
    },
    {
      "cell_type": "code",
      "metadata": {
        "colab": {
          "base_uri": "https://localhost:8080/"
        },
        "id": "R2XUcd1QFFJl",
        "outputId": "f9b4f45e-e43c-49df-c742-b24fcba5023c"
      },
      "source": [
        "grid_log.best_params_"
      ],
      "execution_count": null,
      "outputs": [
        {
          "output_type": "execute_result",
          "data": {
            "text/plain": [
              "{'C': 10, 'penalty': 'l2'}"
            ]
          },
          "metadata": {
            "tags": []
          },
          "execution_count": 69
        }
      ]
    },
    {
      "cell_type": "code",
      "metadata": {
        "id": "7KpRAgMYFHEy"
      },
      "source": [
        "log2_pred = grid_log.predict(x_test)"
      ],
      "execution_count": null,
      "outputs": []
    },
    {
      "cell_type": "code",
      "metadata": {
        "colab": {
          "base_uri": "https://localhost:8080/"
        },
        "id": "eCCsjqrhFMFw",
        "outputId": "a5f68119-1fee-474c-811c-47c9e8573c15"
      },
      "source": [
        "log2_accuracy = accuracy_score(y_test,log2_pred)\n",
        "log2_f1 = f1_score(y_test,log2_pred)\n",
        "print('Tuned Logistic Regression accuracy: %.3f' % log2_accuracy)\n",
        "print('Tuned Logistic Regression F1 score: %.3f' % log2_f1)"
      ],
      "execution_count": null,
      "outputs": [
        {
          "output_type": "stream",
          "text": [
            "Tuned Logistic Regression accuracy: 0.721\n",
            "Tuned Logistic Regression F1 score: 0.610\n"
          ],
          "name": "stdout"
        }
      ]
    },
    {
      "cell_type": "markdown",
      "metadata": {
        "id": "OuHbAVXwEn0o"
      },
      "source": [
        "Our original Logistic Regresion model achieved the exact same f1 score but achieved a slightly higher accuracy. So using GridSearch our model did not improve.\n",
        "Typically Logistic Regression requires large samples sizes for accurate results."
      ]
    },
    {
      "cell_type": "markdown",
      "metadata": {
        "id": "LRxI8ZK1IHsB"
      },
      "source": [
        "**Adaboost Classifier**"
      ]
    },
    {
      "cell_type": "code",
      "metadata": {
        "id": "14oZPjpNIKrv"
      },
      "source": [
        "parameters = {'n_estimators':[500, 1000, 1500, 2000], \n",
        "              'learning_rate':[0.05, 0.1, 0.15, 0.2]}"
      ],
      "execution_count": null,
      "outputs": []
    },
    {
      "cell_type": "code",
      "metadata": {
        "colab": {
          "base_uri": "https://localhost:8080/"
        },
        "id": "attPSFmjIOJs",
        "outputId": "1d9ca4f8-0763-4088-bc10-25aa54c07271"
      },
      "source": [
        "ada = AdaBoostClassifier()\n",
        "\n",
        "clf = GridSearchCV(ada,parameters,cv=3,verbose=3,n_jobs=-1)\n",
        "\n",
        "clf.fit(x_train,y_train)"
      ],
      "execution_count": 73,
      "outputs": [
        {
          "output_type": "stream",
          "text": [
            "Fitting 3 folds for each of 16 candidates, totalling 48 fits\n"
          ],
          "name": "stdout"
        },
        {
          "output_type": "stream",
          "text": [
            "[Parallel(n_jobs=-1)]: Using backend LokyBackend with 2 concurrent workers.\n",
            "[Parallel(n_jobs=-1)]: Done  28 tasks      | elapsed:  8.2min\n",
            "[Parallel(n_jobs=-1)]: Done  48 out of  48 | elapsed: 14.9min finished\n"
          ],
          "name": "stderr"
        },
        {
          "output_type": "execute_result",
          "data": {
            "text/plain": [
              "GridSearchCV(cv=3, error_score=nan,\n",
              "             estimator=AdaBoostClassifier(algorithm='SAMME.R',\n",
              "                                          base_estimator=None,\n",
              "                                          learning_rate=1.0, n_estimators=50,\n",
              "                                          random_state=None),\n",
              "             iid='deprecated', n_jobs=-1,\n",
              "             param_grid={'learning_rate': [0.05, 0.1, 0.15, 0.2],\n",
              "                         'n_estimators': [500, 1000, 1500, 2000]},\n",
              "             pre_dispatch='2*n_jobs', refit=True, return_train_score=False,\n",
              "             scoring=None, verbose=3)"
            ]
          },
          "metadata": {
            "tags": []
          },
          "execution_count": 73
        }
      ]
    },
    {
      "cell_type": "code",
      "metadata": {
        "id": "sbcPjGspIVgW",
        "colab": {
          "base_uri": "https://localhost:8080/"
        },
        "outputId": "a5e02fd1-51b5-480b-e980-a2bbcd14195f"
      },
      "source": [
        "clf.best_params_"
      ],
      "execution_count": 74,
      "outputs": [
        {
          "output_type": "execute_result",
          "data": {
            "text/plain": [
              "{'learning_rate': 0.05, 'n_estimators': 2000}"
            ]
          },
          "metadata": {
            "tags": []
          },
          "execution_count": 74
        }
      ]
    },
    {
      "cell_type": "code",
      "metadata": {
        "id": "POZXeah0IWbZ",
        "colab": {
          "base_uri": "https://localhost:8080/"
        },
        "outputId": "1f024912-32b5-4184-ab2c-eb31d04960bb"
      },
      "source": [
        "ada_pred = clf.predict(x_test)\n",
        "ada_accuracy = accuracy_score(y_test,ada_pred)\n",
        "ada_f1 = f1_score(y_test, ada_pred)\n",
        "\n",
        "print(\"ADA Model Accuracy: %.3f\" % ada_accuracy)\n",
        "print(\"ADA Model F1 Accuracy: %.3f\" % ada_f1)"
      ],
      "execution_count": 75,
      "outputs": [
        {
          "output_type": "stream",
          "text": [
            "ADA Model Accuracy: 0.752\n",
            "ADA Model F1 Accuracy: 0.679\n"
          ],
          "name": "stdout"
        }
      ]
    },
    {
      "cell_type": "code",
      "metadata": {
        "id": "AgrB9mrgIZR4",
        "colab": {
          "base_uri": "https://localhost:8080/",
          "height": 295
        },
        "outputId": "6c9112ef-9216-42d6-df9f-24a2fb2def40"
      },
      "source": [
        "sns.heatmap(confusion_matrix(y_test,ada_pred),annot=True,fmt='d')\n",
        "plt.title(\"ADA Confusion Matrix\")\n",
        "plt.xlabel('Predicted')\n",
        "plt.ylabel('True');"
      ],
      "execution_count": 76,
      "outputs": [
        {
          "output_type": "display_data",
          "data": {
            "image/png": "[encoded data removed]",
            "text/plain": [
              "<Figure size 432x288 with 2 Axes>"
            ]
          },
          "metadata": {
            "tags": [],
            "needs_background": "light"
          }
        }
      ]
    },
    {
      "cell_type": "code",
      "metadata": {
        "id": "8raeKls3Ie82",
        "colab": {
          "base_uri": "https://localhost:8080/"
        },
        "outputId": "e536e41c-45a0-4abb-b034-93bb71e50882"
      },
      "source": [
        "print(classification_report(y_test,ada_pred))"
      ],
      "execution_count": 77,
      "outputs": [
        {
          "output_type": "stream",
          "text": [
            "              precision    recall  f1-score   support\n",
            "\n",
            "         0.0       0.79      0.80      0.80      9671\n",
            "         1.0       0.68      0.67      0.68      6151\n",
            "\n",
            "    accuracy                           0.75     15822\n",
            "   macro avg       0.74      0.74      0.74     15822\n",
            "weighted avg       0.75      0.75      0.75     15822\n",
            "\n"
          ],
          "name": "stdout"
        }
      ]
    },
    {
      "cell_type": "code",
      "metadata": {
        "id": "-JqwDWObMjcM"
      },
      "source": [
        "'''\n",
        "prints the classification report for the predicted value vs test value.\n",
        "arguments:\n",
        "    classification_name: name of the classifier\n",
        "    y_pred: the predicted value\n",
        "    y_test: the test value\n",
        "\n",
        "'''\n",
        "def print_scoring_report(classification_name,y_pred,y_test):\n",
        "    labels = ['successful offer']\n",
        "    y_test2 = np.array(y_test)\n",
        "    y_pred2 = np.array(y_pred)\n",
        "    class_dict={}\n",
        "\n",
        "    for label in range(len(labels)):\n",
        "        y_test_label = y_test2[:, label]\n",
        "        y_pred_label = y_pred2[:, label]\n",
        "        class_dict[labels[label]] = classification_report(y_pred=y_pred_label, y_true=y_test_label)\n",
        "        print(\"The accuracy for label {} using {} is: {}\".format(labels[label],classification_name,\n",
        "                                                                    accuracy_score(y_test_label,y_pred_label)))\n",
        "\n",
        "        \n",
        "    for label, matrix in class_dict.items():\n",
        "        print(\"Classificaiton report for label {} using {}:\".format(label,classification_name))\n",
        "        print(matrix)"
      ],
      "execution_count": 78,
      "outputs": []
    },
    {
      "cell_type": "code",
      "metadata": {
        "id": "gfl66YB4MyJv"
      },
      "source": [
        "'''\n",
        "create a multioutput classifier and then fit it and predict the y value.\n",
        "finally print the score of the classifier.\n",
        "arguments:\n",
        "    classifier_type: pass the classifier that you are using in the multioutput classifier\n",
        "output:\n",
        "    y_pred: the predicted y value\n",
        "\n",
        "'''\n",
        "def predict_values(classifier_type):\n",
        "    classifier = MultiOutputClassifier(estimator=classifier_type,n_jobs=-1)\n",
        "    classifier.fit(x_train,y_train)\n",
        "    y_pred = classifier.predict(x_test)\n",
        "    print(\"The score of the classifier is \", classifier.score(x_test,y_test))\n",
        "    print(\"The score of the classifier on training data is \", classifier.score(x_train,y_train))\n",
        "    return y_pred\n",
        "\n"
      ],
      "execution_count": 79,
      "outputs": []
    },
    {
      "cell_type": "markdown",
      "metadata": {
        "id": "p9N_8ByVNlp_"
      },
      "source": [
        "##Conclusion"
      ]
    },
    {
      "cell_type": "markdown",
      "metadata": {
        "id": "K6MV9_ILEUnt"
      },
      "source": [
        "<p> The biggest challenge of this project was to do the correct data cleaning and understand the best way to define a successful offer. Separating the offers to identify 100% of the cases that actually followed the expected pattern for success previously defined is quite complex, especially in the way in which the data are arranged. </p>\n",
        "\n",
        "\n",
        "<p> By analyzing the correlation matrix more deeply, we can identify that the Social and Mobile channels were most related with offers visualization than others channels. Therefore, it is recommended that the company focus more on then in future campaigns.</p>\n",
        "\n",
        "<p> Moving to the classification models, the focus was on evaluating which of the proposed models would present the best solution. Here is a comparison between our models based on accuracy</p>"
      ]
    },
    {
      "cell_type": "code",
      "metadata": {
        "id": "o_k8mrjLEWf8",
        "colab": {
          "base_uri": "https://localhost:8080/",
          "height": 173
        },
        "outputId": "0e603ff1-6708-4608-b556-16fb07d5b87a"
      },
      "source": [
        "accuracy = np.array([log_accuracy,log2_accuracy,ada_accuracy]).reshape(-1,1)\n",
        "f1_score = np.array([log_f1_score,log2_f1,ada_f1]).reshape(-1,1)\n",
        "\n",
        "metrics = pd.DataFrame(np.concatenate((accuracy,f1_score),axis=1),columns=['Accuracy','F1 Score'])\n",
        "\n",
        "model_names = np.array(['Logistic Regresson 1','Logistic Regression 2','ADA']).reshape(-1,1)\n",
        "\n",
        "metrics = pd.concat([metrics,pd.DataFrame(model_names)],axis=1)\n",
        "\n",
        "metrics.columns = ['Accuracy','F1 Score','Model Names']\n",
        "\n",
        "metrics.set_index('Model Names').sort_values(by='Accuracy',ascending=False)"
      ],
      "execution_count": 80,
      "outputs": [
        {
          "output_type": "execute_result",
          "data": {
            "text/html": [
              "<div>\n",
              "<style scoped>\n",
              "    .dataframe tbody tr th:only-of-type {\n",
              "        vertical-align: middle;\n",
              "    }\n",
              "\n",
              "    .dataframe tbody tr th {\n",
              "        vertical-align: top;\n",
              "    }\n",
              "\n",
              "    .dataframe thead th {\n",
              "        text-align: right;\n",
              "    }\n",
              "</style>\n",
              "<table border=\"1\" class=\"dataframe\">\n",
              "  <thead>\n",
              "    <tr style=\"text-align: right;\">\n",
              "      <th></th>\n",
              "      <th>Accuracy</th>\n",
              "      <th>F1 Score</th>\n",
              "    </tr>\n",
              "    <tr>\n",
              "      <th>Model Names</th>\n",
              "      <th></th>\n",
              "      <th></th>\n",
              "    </tr>\n",
              "  </thead>\n",
              "  <tbody>\n",
              "    <tr>\n",
              "      <th>ADA</th>\n",
              "      <td>0.752244</td>\n",
              "      <td>0.678846</td>\n",
              "    </tr>\n",
              "    <tr>\n",
              "      <th>Logistic Regression 2</th>\n",
              "      <td>0.721401</td>\n",
              "      <td>0.609566</td>\n",
              "    </tr>\n",
              "    <tr>\n",
              "      <th>Logistic Regresson 1</th>\n",
              "      <td>0.718240</td>\n",
              "      <td>0.604226</td>\n",
              "    </tr>\n",
              "  </tbody>\n",
              "</table>\n",
              "</div>"
            ],
            "text/plain": [
              "                       Accuracy  F1 Score\n",
              "Model Names                              \n",
              "ADA                    0.752244  0.678846\n",
              "Logistic Regression 2  0.721401  0.609566\n",
              "Logistic Regresson 1   0.718240  0.604226"
            ]
          },
          "metadata": {
            "tags": []
          },
          "execution_count": 80
        }
      ]
    },
    {
      "cell_type": "code",
      "metadata": {
        "id": "UmJicRa8Ezd7",
        "colab": {
          "base_uri": "https://localhost:8080/",
          "height": 295
        },
        "outputId": "c745748f-21b9-46e4-d968-6d529768f1e6"
      },
      "source": [
        "plt.barh(metrics['Model Names'],metrics['Accuracy']);\n",
        "plt.xlabel('Accuracy')\n",
        "plt.title('Accuracy by Model')\n",
        "plt.xlim([0,1])\n",
        "\n",
        "\n",
        "labels = ['%.2f' % x for x in metrics['Accuracy']]\n",
        "\n",
        "\n",
        "for i,v in enumerate(metrics['Accuracy']):\n",
        "    plt.gca().text(0.85, i - 0.1, labels[i], color='black', fontweight='bold')"
      ],
      "execution_count": 81,
      "outputs": [
        {
          "output_type": "display_data",
          "data": {
            "image/png": "[encoded data removed]",
            "text/plain": [
              "<Figure size 432x288 with 1 Axes>"
            ]
          },
          "metadata": {
            "tags": [],
            "needs_background": "light"
          }
        }
      ]
    },
    {
      "cell_type": "markdown",
      "metadata": {
        "id": "XPTxqhMvBcfe"
      },
      "source": [
        "We can see that we got better results using ADAboost algorithm."
      ]
    },
    {
      "cell_type": "markdown",
      "metadata": {
        "id": "cmvP-MAEARqb"
      },
      "source": [
        "## **Some improvements**\n",
        "<p> \n",
        "I believe that with more demographic information from clients, such as - city, profession or feedback, it would be possible to propose better strategies and find better results. In addition, the classification models could have benefited from more user transactions in the database.</p>\n",
        "<p>Also it would be good to check and improve the sucess/unsucess formula used for bogo and discount offers with a more robust method and include the informational offers by seeting clear metrics for them.</p>\n"
      ]
    }
  ]
}